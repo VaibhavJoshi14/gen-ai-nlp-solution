{
 "cells": [
  {
   "cell_type": "code",
   "execution_count": 10,
   "metadata": {},
   "outputs": [],
   "source": [
    "import pandas as pd\n",
    "\n",
    "df = pd.read_json(\"hf://datasets/toughdata/quora-question-answer-dataset/Quora-QuAD.jsonl\", lines=True) #pd.read_csv('qa_data.csv')"
   ]
  },
  {
   "cell_type": "markdown",
   "metadata": {},
   "source": [
    "## Data Preprocessing: Lemmatization, Emoji removal, URL removal"
   ]
  },
  {
   "cell_type": "code",
   "execution_count": 11,
   "metadata": {},
   "outputs": [],
   "source": [
    "# Data preprocessing\n",
    "\n",
    "import re\n",
    "from nltk.corpus import stopwords\n",
    "from nltk.stem import WordNetLemmatizer\n",
    "from nltk.tokenize import word_tokenize\n",
    "\n",
    "# don't use stop words.\n",
    "\n",
    "# init lemmatizer\n",
    "lemmatizer = WordNetLemmatizer()\n",
    "# Regular expression pattern for matching URLs\n",
    "url_pattern = r'http\\S+|www\\S+|https\\S+'\n",
    "\n",
    "def clean_text(text):\n",
    "    # Lemmatization\n",
    "    text = ' '.join([lemmatizer.lemmatize(word) for word in text.split()])\n",
    "    \n",
    "    # Remove all characters outside the ASCII range, including emojis and Hindi characters.\n",
    "    text = re.sub(r'[^\\x00-\\x7F]+', '', text)\n",
    "    \n",
    "    # Remove URLs from text\n",
    "    text = re.sub(url_pattern, '', text, flags=re.MULTILINE)\n",
    "\n",
    "    return text\n",
    "\n",
    "df['question'] = df['question'].apply(clean_text)\n",
    "df['answer'] = df['answer'].apply(clean_text)\n",
    "\n"
   ]
  },
  {
   "cell_type": "code",
   "execution_count": 5,
   "metadata": {},
   "outputs": [
    {
     "data": {
      "text/html": [
       "<div>\n",
       "<style scoped>\n",
       "    .dataframe tbody tr th:only-of-type {\n",
       "        vertical-align: middle;\n",
       "    }\n",
       "\n",
       "    .dataframe tbody tr th {\n",
       "        vertical-align: top;\n",
       "    }\n",
       "\n",
       "    .dataframe thead th {\n",
       "        text-align: right;\n",
       "    }\n",
       "</style>\n",
       "<table border=\"1\" class=\"dataframe\">\n",
       "  <thead>\n",
       "    <tr style=\"text-align: right;\">\n",
       "      <th></th>\n",
       "      <th>question</th>\n",
       "      <th>answer</th>\n",
       "    </tr>\n",
       "  </thead>\n",
       "  <tbody>\n",
       "    <tr>\n",
       "      <th>0</th>\n",
       "      <td>Why whenever I get in the shower my girlfriend...</td>\n",
       "      <td>Isnt it awful? You would swear that there wasn...</td>\n",
       "    </tr>\n",
       "    <tr>\n",
       "      <th>1</th>\n",
       "      <td>What is a proxy, and how can I use one?</td>\n",
       "      <td>A proxy server is a system or router that prov...</td>\n",
       "    </tr>\n",
       "    <tr>\n",
       "      <th>2</th>\n",
       "      <td>What song ha the lyric \"someone left the cake ...</td>\n",
       "      <td>MacArthur's Park</td>\n",
       "    </tr>\n",
       "    <tr>\n",
       "      <th>3</th>\n",
       "      <td>I am the owner of an adult website called  Can...</td>\n",
       "      <td>Don't let apps that are liers put add on your ...</td>\n",
       "    </tr>\n",
       "    <tr>\n",
       "      <th>4</th>\n",
       "      <td>Does the Bible mention anything about a place ...</td>\n",
       "      <td>St. John in the book of Revelation mention an ...</td>\n",
       "    </tr>\n",
       "  </tbody>\n",
       "</table>\n",
       "</div>"
      ],
      "text/plain": [
       "                                            question  \\\n",
       "0  Why whenever I get in the shower my girlfriend...   \n",
       "1            What is a proxy, and how can I use one?   \n",
       "2  What song ha the lyric \"someone left the cake ...   \n",
       "3  I am the owner of an adult website called  Can...   \n",
       "4  Does the Bible mention anything about a place ...   \n",
       "\n",
       "                                              answer  \n",
       "0  Isnt it awful? You would swear that there wasn...  \n",
       "1  A proxy server is a system or router that prov...  \n",
       "2                                   MacArthur's Park  \n",
       "3  Don't let apps that are liers put add on your ...  \n",
       "4  St. John in the book of Revelation mention an ...  "
      ]
     },
     "execution_count": 5,
     "metadata": {},
     "output_type": "execute_result"
    }
   ],
   "source": [
    "df.head()"
   ]
  },
  {
   "cell_type": "code",
   "execution_count": 3,
   "metadata": {},
   "outputs": [
    {
     "data": {
      "text/plain": [
       "device(type='cuda')"
      ]
     },
     "execution_count": 3,
     "metadata": {},
     "output_type": "execute_result"
    }
   ],
   "source": [
    "import torch\n",
    "device = torch.device('cuda' if torch.cuda.is_available() else 'cpu')\n",
    "device"
   ]
  },
  {
   "cell_type": "markdown",
   "metadata": {},
   "source": [
    "## Train the model"
   ]
  },
  {
   "cell_type": "code",
   "execution_count": 7,
   "metadata": {},
   "outputs": [
    {
     "name": "stderr",
     "output_type": "stream",
     "text": [
      "C:\\Users\\vaibh\\AppData\\Roaming\\Python\\Python312\\site-packages\\tqdm\\auto.py:21: TqdmWarning: IProgress not found. Please update jupyter and ipywidgets. See https://ipywidgets.readthedocs.io/en/stable/user_install.html\n",
      "  from .autonotebook import tqdm as notebook_tqdm\n",
      "Map: 100%|██████████| 45121/45121 [02:28<00:00, 303.23 examples/s]\n",
      "Map: 100%|██████████| 11281/11281 [00:41<00:00, 274.90 examples/s]\n",
      "C:\\Users\\vaibh\\AppData\\Roaming\\Python\\Python312\\site-packages\\transformers\\training_args.py:1525: FutureWarning: `evaluation_strategy` is deprecated and will be removed in version 4.46 of 🤗 Transformers. Use `eval_strategy` instead\n",
      "  warnings.warn(\n",
      "  0%|          | 0/45122 [00:00<?, ?it/s]C:\\Users\\vaibh\\AppData\\Roaming\\Python\\Python312\\site-packages\\transformers\\models\\gpt2\\modeling_gpt2.py:544: UserWarning: 1Torch was not compiled with flash attention. (Triggered internally at C:\\actions-runner\\_work\\pytorch\\pytorch\\builder\\windows\\pytorch\\aten\\src\\ATen\\native\\transformers\\cuda\\sdp_utils.cpp:555.)\n",
      "  attn_output = torch.nn.functional.scaled_dot_product_attention(\n",
      "  1%|          | 500/45122 [07:33<11:18:05,  1.10it/s]"
     ]
    },
    {
     "name": "stdout",
     "output_type": "stream",
     "text": [
      "{'loss': 0.7638, 'grad_norm': 0.9886317253112793, 'learning_rate': 4.9445946544922654e-05, 'epoch': 0.02}\n"
     ]
    },
    {
     "name": "stderr",
     "output_type": "stream",
     "text": [
      "  2%|▏         | 1000/45122 [15:10<11:13:24,  1.09it/s]"
     ]
    },
    {
     "name": "stdout",
     "output_type": "stream",
     "text": [
      "{'loss': 0.6808, 'grad_norm': 0.6098201274871826, 'learning_rate': 4.8891893089845306e-05, 'epoch': 0.04}\n"
     ]
    },
    {
     "name": "stderr",
     "output_type": "stream",
     "text": [
      "  3%|▎         | 1500/45122 [22:51<11:05:16,  1.09it/s]"
     ]
    },
    {
     "name": "stdout",
     "output_type": "stream",
     "text": [
      "{'loss': 0.7298, 'grad_norm': 0.8305000066757202, 'learning_rate': 4.8337839634767964e-05, 'epoch': 0.07}\n"
     ]
    },
    {
     "name": "stderr",
     "output_type": "stream",
     "text": [
      "  4%|▍         | 2000/45122 [30:29<10:57:19,  1.09it/s]"
     ]
    },
    {
     "name": "stdout",
     "output_type": "stream",
     "text": [
      "{'loss': 0.733, 'grad_norm': 0.8294147849082947, 'learning_rate': 4.778378617969062e-05, 'epoch': 0.09}\n"
     ]
    },
    {
     "name": "stderr",
     "output_type": "stream",
     "text": [
      "  6%|▌         | 2500/45122 [38:07<10:45:04,  1.10it/s]"
     ]
    },
    {
     "name": "stdout",
     "output_type": "stream",
     "text": [
      "{'loss': 0.7085, 'grad_norm': 0.552254319190979, 'learning_rate': 4.7229732724613275e-05, 'epoch': 0.11}\n"
     ]
    },
    {
     "name": "stderr",
     "output_type": "stream",
     "text": [
      "  7%|▋         | 3000/45122 [45:43<10:41:20,  1.09it/s]"
     ]
    },
    {
     "name": "stdout",
     "output_type": "stream",
     "text": [
      "{'loss': 0.6607, 'grad_norm': 0.3225180506706238, 'learning_rate': 4.6675679269535926e-05, 'epoch': 0.13}\n"
     ]
    },
    {
     "name": "stderr",
     "output_type": "stream",
     "text": [
      "  8%|▊         | 3500/45122 [53:23<10:34:57,  1.09it/s]"
     ]
    },
    {
     "name": "stdout",
     "output_type": "stream",
     "text": [
      "{'loss': 0.7057, 'grad_norm': 0.5419062376022339, 'learning_rate': 4.612162581445858e-05, 'epoch': 0.16}\n"
     ]
    },
    {
     "name": "stderr",
     "output_type": "stream",
     "text": [
      "  9%|▉         | 4000/45122 [1:01:01<10:29:16,  1.09it/s]"
     ]
    },
    {
     "name": "stdout",
     "output_type": "stream",
     "text": [
      "{'loss': 0.6318, 'grad_norm': 0.6687925457954407, 'learning_rate': 4.556757235938123e-05, 'epoch': 0.18}\n"
     ]
    },
    {
     "name": "stderr",
     "output_type": "stream",
     "text": [
      " 10%|▉         | 4500/45122 [1:08:43<10:21:56,  1.09it/s]"
     ]
    },
    {
     "name": "stdout",
     "output_type": "stream",
     "text": [
      "{'loss': 0.7053, 'grad_norm': 0.37513330578804016, 'learning_rate': 4.501351890430389e-05, 'epoch': 0.2}\n"
     ]
    },
    {
     "name": "stderr",
     "output_type": "stream",
     "text": [
      " 11%|█         | 5000/45122 [1:18:30<15:30:51,  1.39s/it]"
     ]
    },
    {
     "name": "stdout",
     "output_type": "stream",
     "text": [
      "{'loss': 0.7565, 'grad_norm': 1.216505527496338, 'learning_rate': 4.445946544922655e-05, 'epoch': 0.22}\n"
     ]
    },
    {
     "name": "stderr",
     "output_type": "stream",
     "text": [
      " 12%|█▏        | 5500/45122 [1:30:06<15:13:24,  1.38s/it]"
     ]
    },
    {
     "name": "stdout",
     "output_type": "stream",
     "text": [
      "{'loss': 0.6929, 'grad_norm': 0.3866729736328125, 'learning_rate': 4.39054119941492e-05, 'epoch': 0.24}\n"
     ]
    },
    {
     "name": "stderr",
     "output_type": "stream",
     "text": [
      " 13%|█▎        | 6000/45122 [1:41:46<15:14:42,  1.40s/it]"
     ]
    },
    {
     "name": "stdout",
     "output_type": "stream",
     "text": [
      "{'loss': 0.648, 'grad_norm': 0.6865020394325256, 'learning_rate': 4.335135853907185e-05, 'epoch': 0.27}\n"
     ]
    },
    {
     "name": "stderr",
     "output_type": "stream",
     "text": [
      " 14%|█▍        | 6500/45122 [1:53:31<14:57:43,  1.39s/it]"
     ]
    },
    {
     "name": "stdout",
     "output_type": "stream",
     "text": [
      "{'loss': 0.7005, 'grad_norm': 0.44256818294525146, 'learning_rate': 4.27973050839945e-05, 'epoch': 0.29}\n"
     ]
    },
    {
     "name": "stderr",
     "output_type": "stream",
     "text": [
      " 16%|█▌        | 7000/45122 [2:05:07<14:42:01,  1.39s/it]"
     ]
    },
    {
     "name": "stdout",
     "output_type": "stream",
     "text": [
      "{'loss': 0.6999, 'grad_norm': 0.5261073112487793, 'learning_rate': 4.224325162891716e-05, 'epoch': 0.31}\n"
     ]
    },
    {
     "name": "stderr",
     "output_type": "stream",
     "text": [
      " 17%|█▋        | 7500/45122 [2:16:46<14:30:33,  1.39s/it]"
     ]
    },
    {
     "name": "stdout",
     "output_type": "stream",
     "text": [
      "{'loss': 0.6397, 'grad_norm': 0.4875703752040863, 'learning_rate': 4.168919817383982e-05, 'epoch': 0.33}\n"
     ]
    },
    {
     "name": "stderr",
     "output_type": "stream",
     "text": [
      " 18%|█▊        | 8000/45122 [2:28:22<14:24:23,  1.40s/it]"
     ]
    },
    {
     "name": "stdout",
     "output_type": "stream",
     "text": [
      "{'loss': 0.6917, 'grad_norm': 0.5085593461990356, 'learning_rate': 4.113514471876247e-05, 'epoch': 0.35}\n"
     ]
    },
    {
     "name": "stderr",
     "output_type": "stream",
     "text": [
      " 19%|█▉        | 8500/45122 [2:40:02<14:11:32,  1.40s/it]"
     ]
    },
    {
     "name": "stdout",
     "output_type": "stream",
     "text": [
      "{'loss': 0.6579, 'grad_norm': 0.5818943381309509, 'learning_rate': 4.058109126368512e-05, 'epoch': 0.38}\n"
     ]
    },
    {
     "name": "stderr",
     "output_type": "stream",
     "text": [
      " 20%|█▉        | 9000/45122 [2:51:38<13:57:45,  1.39s/it]"
     ]
    },
    {
     "name": "stdout",
     "output_type": "stream",
     "text": [
      "{'loss': 0.6339, 'grad_norm': 0.8916680216789246, 'learning_rate': 4.0027037808607775e-05, 'epoch': 0.4}\n"
     ]
    },
    {
     "name": "stderr",
     "output_type": "stream",
     "text": [
      " 21%|██        | 9500/45122 [3:03:19<13:48:24,  1.40s/it]"
     ]
    },
    {
     "name": "stdout",
     "output_type": "stream",
     "text": [
      "{'loss': 0.6978, 'grad_norm': 0.5580962896347046, 'learning_rate': 3.9472984353530426e-05, 'epoch': 0.42}\n"
     ]
    },
    {
     "name": "stderr",
     "output_type": "stream",
     "text": [
      " 22%|██▏       | 10000/45122 [3:14:54<13:38:01,  1.40s/it]"
     ]
    },
    {
     "name": "stdout",
     "output_type": "stream",
     "text": [
      "{'loss': 0.6142, 'grad_norm': 0.602072536945343, 'learning_rate': 3.8918930898453085e-05, 'epoch': 0.44}\n"
     ]
    },
    {
     "name": "stderr",
     "output_type": "stream",
     "text": [
      " 23%|██▎       | 10500/45122 [3:26:32<13:26:15,  1.40s/it]"
     ]
    },
    {
     "name": "stdout",
     "output_type": "stream",
     "text": [
      "{'loss': 0.6451, 'grad_norm': 0.36748766899108887, 'learning_rate': 3.8364877443375743e-05, 'epoch': 0.47}\n"
     ]
    },
    {
     "name": "stderr",
     "output_type": "stream",
     "text": [
      " 24%|██▍       | 11000/45122 [3:38:10<13:07:34,  1.38s/it]"
     ]
    },
    {
     "name": "stdout",
     "output_type": "stream",
     "text": [
      "{'loss': 0.6424, 'grad_norm': 0.45002037286758423, 'learning_rate': 3.7810823988298395e-05, 'epoch': 0.49}\n"
     ]
    },
    {
     "name": "stderr",
     "output_type": "stream",
     "text": [
      " 25%|██▌       | 11500/45122 [3:49:49<13:01:16,  1.39s/it]"
     ]
    },
    {
     "name": "stdout",
     "output_type": "stream",
     "text": [
      "{'loss': 0.6538, 'grad_norm': 0.6726819276809692, 'learning_rate': 3.725677053322105e-05, 'epoch': 0.51}\n"
     ]
    },
    {
     "name": "stderr",
     "output_type": "stream",
     "text": [
      " 27%|██▋       | 12000/45122 [4:01:27<12:46:24,  1.39s/it]"
     ]
    },
    {
     "name": "stdout",
     "output_type": "stream",
     "text": [
      "{'loss': 0.6445, 'grad_norm': 0.40074121952056885, 'learning_rate': 3.67027170781437e-05, 'epoch': 0.53}\n"
     ]
    },
    {
     "name": "stderr",
     "output_type": "stream",
     "text": [
      " 28%|██▊       | 12500/45122 [4:13:06<12:33:20,  1.39s/it]"
     ]
    },
    {
     "name": "stdout",
     "output_type": "stream",
     "text": [
      "{'loss': 0.6308, 'grad_norm': 1.0532300472259521, 'learning_rate': 3.614866362306635e-05, 'epoch': 0.55}\n"
     ]
    },
    {
     "name": "stderr",
     "output_type": "stream",
     "text": [
      " 29%|██▉       | 13000/45122 [4:24:40<12:19:54,  1.38s/it]"
     ]
    },
    {
     "name": "stdout",
     "output_type": "stream",
     "text": [
      "{'loss': 0.6175, 'grad_norm': 0.8211129903793335, 'learning_rate': 3.559461016798901e-05, 'epoch': 0.58}\n"
     ]
    },
    {
     "name": "stderr",
     "output_type": "stream",
     "text": [
      " 30%|██▉       | 13500/45122 [4:36:18<12:14:30,  1.39s/it]"
     ]
    },
    {
     "name": "stdout",
     "output_type": "stream",
     "text": [
      "{'loss': 0.645, 'grad_norm': 0.3959653675556183, 'learning_rate': 3.504055671291167e-05, 'epoch': 0.6}\n"
     ]
    },
    {
     "name": "stderr",
     "output_type": "stream",
     "text": [
      " 31%|███       | 14000/45122 [4:47:56<12:04:59,  1.40s/it]"
     ]
    },
    {
     "name": "stdout",
     "output_type": "stream",
     "text": [
      "{'loss': 0.6238, 'grad_norm': 0.41259682178497314, 'learning_rate': 3.448650325783432e-05, 'epoch': 0.62}\n"
     ]
    },
    {
     "name": "stderr",
     "output_type": "stream",
     "text": [
      " 32%|███▏      | 14500/45122 [4:59:36<11:51:15,  1.39s/it]"
     ]
    },
    {
     "name": "stdout",
     "output_type": "stream",
     "text": [
      "{'loss': 0.6356, 'grad_norm': 0.4326263666152954, 'learning_rate': 3.393244980275697e-05, 'epoch': 0.64}\n"
     ]
    },
    {
     "name": "stderr",
     "output_type": "stream",
     "text": [
      " 33%|███▎      | 15000/45122 [5:11:13<11:44:03,  1.40s/it]"
     ]
    },
    {
     "name": "stdout",
     "output_type": "stream",
     "text": [
      "{'loss': 0.5968, 'grad_norm': 1.1558935642242432, 'learning_rate': 3.337839634767962e-05, 'epoch': 0.66}\n"
     ]
    },
    {
     "name": "stderr",
     "output_type": "stream",
     "text": [
      " 34%|███▍      | 15500/45122 [5:22:52<11:27:52,  1.39s/it]"
     ]
    },
    {
     "name": "stdout",
     "output_type": "stream",
     "text": [
      "{'loss': 0.6748, 'grad_norm': 0.44999411702156067, 'learning_rate': 3.2824342892602275e-05, 'epoch': 0.69}\n"
     ]
    },
    {
     "name": "stderr",
     "output_type": "stream",
     "text": [
      " 35%|███▌      | 16000/45122 [5:34:29<11:19:23,  1.40s/it]"
     ]
    },
    {
     "name": "stdout",
     "output_type": "stream",
     "text": [
      "{'loss': 0.6509, 'grad_norm': 1.0221956968307495, 'learning_rate': 3.227028943752493e-05, 'epoch': 0.71}\n"
     ]
    },
    {
     "name": "stderr",
     "output_type": "stream",
     "text": [
      " 37%|███▋      | 16500/45122 [5:46:08<11:05:19,  1.39s/it]"
     ]
    },
    {
     "name": "stdout",
     "output_type": "stream",
     "text": [
      "{'loss': 0.6326, 'grad_norm': 0.6162330508232117, 'learning_rate': 3.171623598244759e-05, 'epoch': 0.73}\n"
     ]
    },
    {
     "name": "stderr",
     "output_type": "stream",
     "text": [
      " 38%|███▊      | 17000/45122 [5:57:45<10:54:55,  1.40s/it]"
     ]
    },
    {
     "name": "stdout",
     "output_type": "stream",
     "text": [
      "{'loss': 0.5865, 'grad_norm': 0.2986830770969391, 'learning_rate': 3.1162182527370243e-05, 'epoch': 0.75}\n"
     ]
    },
    {
     "name": "stderr",
     "output_type": "stream",
     "text": [
      " 39%|███▉      | 17500/45122 [6:09:24<10:41:44,  1.39s/it]"
     ]
    },
    {
     "name": "stdout",
     "output_type": "stream",
     "text": [
      "{'loss': 0.689, 'grad_norm': 0.3280164897441864, 'learning_rate': 3.0608129072292895e-05, 'epoch': 0.78}\n"
     ]
    },
    {
     "name": "stderr",
     "output_type": "stream",
     "text": [
      " 40%|███▉      | 18000/45122 [6:20:59<10:31:20,  1.40s/it]"
     ]
    },
    {
     "name": "stdout",
     "output_type": "stream",
     "text": [
      "{'loss': 0.6429, 'grad_norm': 0.6091033816337585, 'learning_rate': 3.005407561721555e-05, 'epoch': 0.8}\n"
     ]
    },
    {
     "name": "stderr",
     "output_type": "stream",
     "text": [
      " 41%|████      | 18500/45122 [6:32:42<10:18:27,  1.39s/it]"
     ]
    },
    {
     "name": "stdout",
     "output_type": "stream",
     "text": [
      "{'loss': 0.6016, 'grad_norm': 0.5544474720954895, 'learning_rate': 2.9500022162138202e-05, 'epoch': 0.82}\n"
     ]
    },
    {
     "name": "stderr",
     "output_type": "stream",
     "text": [
      " 42%|████▏     | 19000/45122 [6:44:17<10:02:40,  1.38s/it]"
     ]
    },
    {
     "name": "stdout",
     "output_type": "stream",
     "text": [
      "{'loss': 0.6499, 'grad_norm': 0.27999749779701233, 'learning_rate': 2.894596870706086e-05, 'epoch': 0.84}\n"
     ]
    },
    {
     "name": "stderr",
     "output_type": "stream",
     "text": [
      " 43%|████▎     | 19500/45122 [6:55:51<9:48:51,  1.38s/it] "
     ]
    },
    {
     "name": "stdout",
     "output_type": "stream",
     "text": [
      "{'loss': 0.6415, 'grad_norm': 0.3920709192752838, 'learning_rate': 2.8391915251983516e-05, 'epoch': 0.86}\n"
     ]
    },
    {
     "name": "stderr",
     "output_type": "stream",
     "text": [
      " 44%|████▍     | 20000/45122 [7:07:25<9:37:56,  1.38s/it] "
     ]
    },
    {
     "name": "stdout",
     "output_type": "stream",
     "text": [
      "{'loss': 0.6397, 'grad_norm': 0.6490933299064636, 'learning_rate': 2.7837861796906168e-05, 'epoch': 0.89}\n"
     ]
    },
    {
     "name": "stderr",
     "output_type": "stream",
     "text": [
      " 45%|████▌     | 20500/45122 [7:18:59<9:27:00,  1.38s/it] "
     ]
    },
    {
     "name": "stdout",
     "output_type": "stream",
     "text": [
      "{'loss': 0.626, 'grad_norm': 0.48027563095092773, 'learning_rate': 2.728380834182882e-05, 'epoch': 0.91}\n"
     ]
    },
    {
     "name": "stderr",
     "output_type": "stream",
     "text": [
      " 47%|████▋     | 21000/45122 [7:30:31<9:14:29,  1.38s/it]"
     ]
    },
    {
     "name": "stdout",
     "output_type": "stream",
     "text": [
      "{'loss': 0.6231, 'grad_norm': 0.3302929699420929, 'learning_rate': 2.6729754886751474e-05, 'epoch': 0.93}\n"
     ]
    },
    {
     "name": "stderr",
     "output_type": "stream",
     "text": [
      " 48%|████▊     | 21500/45122 [7:42:06<9:06:33,  1.39s/it] "
     ]
    },
    {
     "name": "stdout",
     "output_type": "stream",
     "text": [
      "{'loss': 0.6249, 'grad_norm': 0.8825355768203735, 'learning_rate': 2.6175701431674126e-05, 'epoch': 0.95}\n"
     ]
    },
    {
     "name": "stderr",
     "output_type": "stream",
     "text": [
      " 49%|████▉     | 22000/45122 [7:53:39<8:52:48,  1.38s/it]"
     ]
    },
    {
     "name": "stdout",
     "output_type": "stream",
     "text": [
      "{'loss': 0.6293, 'grad_norm': 0.4261011481285095, 'learning_rate': 2.5621647976596785e-05, 'epoch': 0.98}\n"
     ]
    },
    {
     "name": "stderr",
     "output_type": "stream",
     "text": [
      " 50%|████▉     | 22500/45122 [8:05:15<8:41:46,  1.38s/it] "
     ]
    },
    {
     "name": "stdout",
     "output_type": "stream",
     "text": [
      "{'loss': 0.6383, 'grad_norm': 0.45963558554649353, 'learning_rate': 2.506759452151944e-05, 'epoch': 1.0}\n"
     ]
    },
    {
     "name": "stderr",
     "output_type": "stream",
     "text": [
      "                                                         \n",
      " 50%|█████     | 22561/45122 [8:43:05<7:10:08,  1.14s/it]"
     ]
    },
    {
     "name": "stdout",
     "output_type": "stream",
     "text": [
      "{'eval_loss': 0.614281415939331, 'eval_runtime': 2186.6179, 'eval_samples_per_second': 5.159, 'eval_steps_per_second': 2.58, 'epoch': 1.0}\n"
     ]
    },
    {
     "name": "stderr",
     "output_type": "stream",
     "text": [
      " 51%|█████     | 23000/45122 [8:53:13<8:29:05,  1.38s/it]    "
     ]
    },
    {
     "name": "stdout",
     "output_type": "stream",
     "text": [
      "{'loss': 0.6257, 'grad_norm': 0.6665874719619751, 'learning_rate': 2.451354106644209e-05, 'epoch': 1.02}\n"
     ]
    },
    {
     "name": "stderr",
     "output_type": "stream",
     "text": [
      " 52%|█████▏    | 23500/45122 [9:04:46<8:18:14,  1.38s/it] "
     ]
    },
    {
     "name": "stdout",
     "output_type": "stream",
     "text": [
      "{'loss': 0.6021, 'grad_norm': 0.646066427230835, 'learning_rate': 2.3959487611364743e-05, 'epoch': 1.04}\n"
     ]
    },
    {
     "name": "stderr",
     "output_type": "stream",
     "text": [
      " 53%|█████▎    | 24000/45122 [9:16:16<8:04:27,  1.38s/it]"
     ]
    },
    {
     "name": "stdout",
     "output_type": "stream",
     "text": [
      "{'loss': 0.5872, 'grad_norm': 0.5015208125114441, 'learning_rate': 2.3405434156287402e-05, 'epoch': 1.06}\n"
     ]
    },
    {
     "name": "stderr",
     "output_type": "stream",
     "text": [
      " 54%|█████▍    | 24500/45122 [9:27:49<7:55:01,  1.38s/it] "
     ]
    },
    {
     "name": "stdout",
     "output_type": "stream",
     "text": [
      "{'loss': 0.5952, 'grad_norm': 0.43640339374542236, 'learning_rate': 2.2851380701210054e-05, 'epoch': 1.09}\n"
     ]
    },
    {
     "name": "stderr",
     "output_type": "stream",
     "text": [
      " 55%|█████▌    | 25000/45122 [9:39:20<7:43:02,  1.38s/it]"
     ]
    },
    {
     "name": "stdout",
     "output_type": "stream",
     "text": [
      "{'loss': 0.5892, 'grad_norm': 0.29593485593795776, 'learning_rate': 2.2297327246132705e-05, 'epoch': 1.11}\n"
     ]
    },
    {
     "name": "stderr",
     "output_type": "stream",
     "text": [
      " 57%|█████▋    | 25500/45122 [9:50:58<7:35:12,  1.39s/it] "
     ]
    },
    {
     "name": "stdout",
     "output_type": "stream",
     "text": [
      "{'loss': 0.6239, 'grad_norm': 0.740753710269928, 'learning_rate': 2.1743273791055364e-05, 'epoch': 1.13}\n"
     ]
    },
    {
     "name": "stderr",
     "output_type": "stream",
     "text": [
      " 58%|█████▊    | 26000/45122 [10:02:31<7:20:27,  1.38s/it]"
     ]
    },
    {
     "name": "stdout",
     "output_type": "stream",
     "text": [
      "{'loss': 0.6141, 'grad_norm': 0.6877084970474243, 'learning_rate': 2.1189220335978016e-05, 'epoch': 1.15}\n"
     ]
    },
    {
     "name": "stderr",
     "output_type": "stream",
     "text": [
      " 59%|█████▊    | 26500/45122 [10:14:06<7:08:04,  1.38s/it] "
     ]
    },
    {
     "name": "stdout",
     "output_type": "stream",
     "text": [
      "{'loss': 0.6316, 'grad_norm': 1.1326110363006592, 'learning_rate': 2.063516688090067e-05, 'epoch': 1.17}\n"
     ]
    },
    {
     "name": "stderr",
     "output_type": "stream",
     "text": [
      " 60%|█████▉    | 27000/45122 [10:25:40<7:01:31,  1.40s/it]"
     ]
    },
    {
     "name": "stdout",
     "output_type": "stream",
     "text": [
      "{'loss': 0.6063, 'grad_norm': 0.6317457556724548, 'learning_rate': 2.0081113425823326e-05, 'epoch': 1.2}\n"
     ]
    },
    {
     "name": "stderr",
     "output_type": "stream",
     "text": [
      " 61%|██████    | 27500/45122 [10:37:17<6:45:56,  1.38s/it] "
     ]
    },
    {
     "name": "stdout",
     "output_type": "stream",
     "text": [
      "{'loss': 0.5648, 'grad_norm': 0.5186416506767273, 'learning_rate': 1.9527059970745978e-05, 'epoch': 1.22}\n"
     ]
    },
    {
     "name": "stderr",
     "output_type": "stream",
     "text": [
      " 62%|██████▏   | 28000/45122 [10:48:53<6:37:22,  1.39s/it]"
     ]
    },
    {
     "name": "stdout",
     "output_type": "stream",
     "text": [
      "{'loss': 0.543, 'grad_norm': 0.5695907473564148, 'learning_rate': 1.8973006515668633e-05, 'epoch': 1.24}\n"
     ]
    },
    {
     "name": "stderr",
     "output_type": "stream",
     "text": [
      " 63%|██████▎   | 28500/45122 [11:00:35<6:30:22,  1.41s/it]"
     ]
    },
    {
     "name": "stdout",
     "output_type": "stream",
     "text": [
      "{'loss': 0.5897, 'grad_norm': 0.549483597278595, 'learning_rate': 1.8418953060591288e-05, 'epoch': 1.26}\n"
     ]
    },
    {
     "name": "stderr",
     "output_type": "stream",
     "text": [
      " 64%|██████▍   | 29000/45122 [11:12:12<6:14:32,  1.39s/it]"
     ]
    },
    {
     "name": "stdout",
     "output_type": "stream",
     "text": [
      "{'loss': 0.5991, 'grad_norm': 0.9870848655700684, 'learning_rate': 1.786489960551394e-05, 'epoch': 1.29}\n"
     ]
    },
    {
     "name": "stderr",
     "output_type": "stream",
     "text": [
      " 65%|██████▌   | 29500/45122 [11:47:09<24:46:25,  5.71s/it]"
     ]
    },
    {
     "name": "stdout",
     "output_type": "stream",
     "text": [
      "{'loss': 0.5766, 'grad_norm': 0.4350868761539459, 'learning_rate': 1.7310846150436595e-05, 'epoch': 1.31}\n"
     ]
    },
    {
     "name": "stderr",
     "output_type": "stream",
     "text": [
      " 66%|██████▋   | 30000/45122 [12:11:00<3:48:19,  1.10it/s]  "
     ]
    },
    {
     "name": "stdout",
     "output_type": "stream",
     "text": [
      "{'loss': 0.6181, 'grad_norm': 0.43859076499938965, 'learning_rate': 1.675679269535925e-05, 'epoch': 1.33}\n"
     ]
    },
    {
     "name": "stderr",
     "output_type": "stream",
     "text": [
      " 68%|██████▊   | 30500/45122 [12:18:39<3:43:07,  1.09it/s]"
     ]
    },
    {
     "name": "stdout",
     "output_type": "stream",
     "text": [
      "{'loss': 0.5694, 'grad_norm': 0.546805739402771, 'learning_rate': 1.6202739240281902e-05, 'epoch': 1.35}\n"
     ]
    },
    {
     "name": "stderr",
     "output_type": "stream",
     "text": [
      " 69%|██████▊   | 31000/45122 [12:26:19<3:36:16,  1.09it/s]"
     ]
    },
    {
     "name": "stdout",
     "output_type": "stream",
     "text": [
      "{'loss': 0.6138, 'grad_norm': 0.3848252296447754, 'learning_rate': 1.5648685785204557e-05, 'epoch': 1.37}\n"
     ]
    },
    {
     "name": "stderr",
     "output_type": "stream",
     "text": [
      " 70%|██████▉   | 31500/45122 [12:34:24<3:28:07,  1.09it/s] "
     ]
    },
    {
     "name": "stdout",
     "output_type": "stream",
     "text": [
      "{'loss': 0.5878, 'grad_norm': 0.6858037710189819, 'learning_rate': 1.5094632330127212e-05, 'epoch': 1.4}\n"
     ]
    },
    {
     "name": "stderr",
     "output_type": "stream",
     "text": [
      " 71%|███████   | 32000/45122 [12:42:03<3:20:54,  1.09it/s]"
     ]
    },
    {
     "name": "stdout",
     "output_type": "stream",
     "text": [
      "{'loss': 0.6399, 'grad_norm': 0.3700045943260193, 'learning_rate': 1.4540578875049866e-05, 'epoch': 1.42}\n"
     ]
    },
    {
     "name": "stderr",
     "output_type": "stream",
     "text": [
      " 72%|███████▏  | 32500/45122 [12:49:44<3:12:41,  1.09it/s]"
     ]
    },
    {
     "name": "stdout",
     "output_type": "stream",
     "text": [
      "{'loss': 0.6179, 'grad_norm': 1.473092794418335, 'learning_rate': 1.398652541997252e-05, 'epoch': 1.44}\n"
     ]
    },
    {
     "name": "stderr",
     "output_type": "stream",
     "text": [
      " 73%|███████▎  | 33000/45122 [12:57:23<3:05:10,  1.09it/s]"
     ]
    },
    {
     "name": "stdout",
     "output_type": "stream",
     "text": [
      "{'loss': 0.5778, 'grad_norm': 0.43072566390037537, 'learning_rate': 1.3432471964895174e-05, 'epoch': 1.46}\n"
     ]
    },
    {
     "name": "stderr",
     "output_type": "stream",
     "text": [
      " 74%|███████▍  | 33500/45122 [13:05:04<2:57:45,  1.09it/s]"
     ]
    },
    {
     "name": "stdout",
     "output_type": "stream",
     "text": [
      "{'loss': 0.5971, 'grad_norm': 0.37963035702705383, 'learning_rate': 1.2878418509817828e-05, 'epoch': 1.48}\n"
     ]
    },
    {
     "name": "stderr",
     "output_type": "stream",
     "text": [
      " 75%|███████▌  | 34000/45122 [13:12:44<2:50:07,  1.09it/s]"
     ]
    },
    {
     "name": "stdout",
     "output_type": "stream",
     "text": [
      "{'loss': 0.6216, 'grad_norm': 0.460654616355896, 'learning_rate': 1.2324365054740481e-05, 'epoch': 1.51}\n"
     ]
    },
    {
     "name": "stderr",
     "output_type": "stream",
     "text": [
      " 76%|███████▋  | 34500/45122 [13:20:25<2:42:58,  1.09it/s]"
     ]
    },
    {
     "name": "stdout",
     "output_type": "stream",
     "text": [
      "{'loss': 0.6222, 'grad_norm': 0.42659834027290344, 'learning_rate': 1.1770311599663136e-05, 'epoch': 1.53}\n"
     ]
    },
    {
     "name": "stderr",
     "output_type": "stream",
     "text": [
      " 78%|███████▊  | 35000/45122 [13:28:05<2:35:41,  1.08it/s]"
     ]
    },
    {
     "name": "stdout",
     "output_type": "stream",
     "text": [
      "{'loss': 0.609, 'grad_norm': 0.5151253938674927, 'learning_rate': 1.121625814458579e-05, 'epoch': 1.55}\n"
     ]
    },
    {
     "name": "stderr",
     "output_type": "stream",
     "text": [
      " 79%|███████▊  | 35500/45122 [13:35:49<2:27:30,  1.09it/s]"
     ]
    },
    {
     "name": "stdout",
     "output_type": "stream",
     "text": [
      "{'loss': 0.5982, 'grad_norm': 0.7486207485198975, 'learning_rate': 1.0662204689508445e-05, 'epoch': 1.57}\n"
     ]
    },
    {
     "name": "stderr",
     "output_type": "stream",
     "text": [
      " 80%|███████▉  | 36000/45122 [13:43:28<2:19:11,  1.09it/s]"
     ]
    },
    {
     "name": "stdout",
     "output_type": "stream",
     "text": [
      "{'loss': 0.6466, 'grad_norm': 0.6907454133033752, 'learning_rate': 1.0108151234431098e-05, 'epoch': 1.6}\n"
     ]
    },
    {
     "name": "stderr",
     "output_type": "stream",
     "text": [
      " 81%|████████  | 36500/45122 [13:51:09<2:11:11,  1.10it/s]"
     ]
    },
    {
     "name": "stdout",
     "output_type": "stream",
     "text": [
      "{'loss': 0.621, 'grad_norm': 0.5833781361579895, 'learning_rate': 9.554097779353753e-06, 'epoch': 1.62}\n"
     ]
    },
    {
     "name": "stderr",
     "output_type": "stream",
     "text": [
      " 82%|████████▏ | 37000/45122 [13:58:46<2:03:51,  1.09it/s]"
     ]
    },
    {
     "name": "stdout",
     "output_type": "stream",
     "text": [
      "{'loss': 0.615, 'grad_norm': 0.30791088938713074, 'learning_rate': 9.000044324276407e-06, 'epoch': 1.64}\n"
     ]
    },
    {
     "name": "stderr",
     "output_type": "stream",
     "text": [
      " 83%|████████▎ | 37500/45122 [14:06:27<1:56:20,  1.09it/s]"
     ]
    },
    {
     "name": "stdout",
     "output_type": "stream",
     "text": [
      "{'loss': 0.5868, 'grad_norm': 0.45508521795272827, 'learning_rate': 8.44599086919906e-06, 'epoch': 1.66}\n"
     ]
    },
    {
     "name": "stderr",
     "output_type": "stream",
     "text": [
      " 84%|████████▍ | 38000/45122 [14:14:04<1:48:37,  1.09it/s]"
     ]
    },
    {
     "name": "stdout",
     "output_type": "stream",
     "text": [
      "{'loss': 0.6381, 'grad_norm': 0.2956258952617645, 'learning_rate': 7.891937414121715e-06, 'epoch': 1.68}\n"
     ]
    },
    {
     "name": "stderr",
     "output_type": "stream",
     "text": [
      " 85%|████████▌ | 38500/45122 [14:21:45<1:40:56,  1.09it/s]"
     ]
    },
    {
     "name": "stdout",
     "output_type": "stream",
     "text": [
      "{'loss': 0.6482, 'grad_norm': 1.2814077138900757, 'learning_rate': 7.337883959044369e-06, 'epoch': 1.71}\n"
     ]
    },
    {
     "name": "stderr",
     "output_type": "stream",
     "text": [
      " 86%|████████▋ | 39000/45122 [14:29:24<1:32:58,  1.10it/s]"
     ]
    },
    {
     "name": "stdout",
     "output_type": "stream",
     "text": [
      "{'loss': 0.5897, 'grad_norm': 1.0097264051437378, 'learning_rate': 6.783830503967023e-06, 'epoch': 1.73}\n"
     ]
    },
    {
     "name": "stderr",
     "output_type": "stream",
     "text": [
      " 88%|████████▊ | 39500/45122 [14:37:05<1:25:53,  1.09it/s]"
     ]
    },
    {
     "name": "stdout",
     "output_type": "stream",
     "text": [
      "{'loss': 0.6163, 'grad_norm': 0.6236655116081238, 'learning_rate': 6.229777048889677e-06, 'epoch': 1.75}\n"
     ]
    },
    {
     "name": "stderr",
     "output_type": "stream",
     "text": [
      " 89%|████████▊ | 40000/45122 [14:44:43<1:18:00,  1.09it/s]"
     ]
    },
    {
     "name": "stdout",
     "output_type": "stream",
     "text": [
      "{'loss': 0.6234, 'grad_norm': 0.6921308636665344, 'learning_rate': 5.675723593812332e-06, 'epoch': 1.77}\n"
     ]
    },
    {
     "name": "stderr",
     "output_type": "stream",
     "text": [
      " 90%|████████▉ | 40500/45122 [14:52:25<1:10:35,  1.09it/s]"
     ]
    },
    {
     "name": "stdout",
     "output_type": "stream",
     "text": [
      "{'loss': 0.6198, 'grad_norm': 0.6010262966156006, 'learning_rate': 5.121670138734985e-06, 'epoch': 1.8}\n"
     ]
    },
    {
     "name": "stderr",
     "output_type": "stream",
     "text": [
      " 91%|█████████ | 41000/45122 [15:00:04<1:03:13,  1.09it/s]"
     ]
    },
    {
     "name": "stdout",
     "output_type": "stream",
     "text": [
      "{'loss': 0.5898, 'grad_norm': 0.5912821292877197, 'learning_rate': 4.5676166836576395e-06, 'epoch': 1.82}\n"
     ]
    },
    {
     "name": "stderr",
     "output_type": "stream",
     "text": [
      " 92%|█████████▏| 41500/45122 [15:07:47<55:10,  1.09it/s]  "
     ]
    },
    {
     "name": "stdout",
     "output_type": "stream",
     "text": [
      "{'loss': 0.6332, 'grad_norm': 0.40001723170280457, 'learning_rate': 4.013563228580294e-06, 'epoch': 1.84}\n"
     ]
    },
    {
     "name": "stderr",
     "output_type": "stream",
     "text": [
      " 93%|█████████▎| 42000/45122 [15:15:26<47:50,  1.09it/s]"
     ]
    },
    {
     "name": "stdout",
     "output_type": "stream",
     "text": [
      "{'loss': 0.6062, 'grad_norm': 0.4524606466293335, 'learning_rate': 3.4595097735029473e-06, 'epoch': 1.86}\n"
     ]
    },
    {
     "name": "stderr",
     "output_type": "stream",
     "text": [
      " 94%|█████████▍| 42500/45122 [15:23:10<40:15,  1.09it/s]  "
     ]
    },
    {
     "name": "stdout",
     "output_type": "stream",
     "text": [
      "{'loss': 0.6323, 'grad_norm': 0.4200754165649414, 'learning_rate': 2.905456318425602e-06, 'epoch': 1.88}\n"
     ]
    },
    {
     "name": "stderr",
     "output_type": "stream",
     "text": [
      " 95%|█████████▌| 43000/45122 [15:30:51<32:41,  1.08it/s]"
     ]
    },
    {
     "name": "stdout",
     "output_type": "stream",
     "text": [
      "{'loss': 0.6129, 'grad_norm': 0.49949535727500916, 'learning_rate': 2.351402863348256e-06, 'epoch': 1.91}\n"
     ]
    },
    {
     "name": "stderr",
     "output_type": "stream",
     "text": [
      " 96%|█████████▋| 43500/45122 [15:38:34<24:56,  1.08it/s]"
     ]
    },
    {
     "name": "stdout",
     "output_type": "stream",
     "text": [
      "{'loss': 0.5975, 'grad_norm': 0.48726463317871094, 'learning_rate': 1.79734940827091e-06, 'epoch': 1.93}\n"
     ]
    },
    {
     "name": "stderr",
     "output_type": "stream",
     "text": [
      " 98%|█████████▊| 44000/45122 [15:46:15<17:13,  1.09it/s]"
     ]
    },
    {
     "name": "stdout",
     "output_type": "stream",
     "text": [
      "{'loss': 0.5557, 'grad_norm': 0.4814179241657257, 'learning_rate': 1.2432959531935642e-06, 'epoch': 1.95}\n"
     ]
    },
    {
     "name": "stderr",
     "output_type": "stream",
     "text": [
      " 99%|█████████▊| 44500/45122 [15:53:58<09:34,  1.08it/s]"
     ]
    },
    {
     "name": "stdout",
     "output_type": "stream",
     "text": [
      "{'loss': 0.6249, 'grad_norm': 0.6679644584655762, 'learning_rate': 6.892424981162182e-07, 'epoch': 1.97}\n"
     ]
    },
    {
     "name": "stderr",
     "output_type": "stream",
     "text": [
      "100%|█████████▉| 45000/45122 [16:01:38<01:51,  1.09it/s]"
     ]
    },
    {
     "name": "stdout",
     "output_type": "stream",
     "text": [
      "{'loss': 0.6093, 'grad_norm': 1.1902377605438232, 'learning_rate': 1.351890430388724e-07, 'epoch': 1.99}\n"
     ]
    },
    {
     "name": "stderr",
     "output_type": "stream",
     "text": [
      "                                                        \n",
      "100%|██████████| 45122/45122 [16:28:21<00:00,  1.31s/it]\n"
     ]
    },
    {
     "name": "stdout",
     "output_type": "stream",
     "text": [
      "{'eval_loss': 0.6029723286628723, 'eval_runtime': 1485.5916, 'eval_samples_per_second': 7.594, 'eval_steps_per_second': 3.797, 'epoch': 2.0}\n",
      "{'train_runtime': 59301.8611, 'train_samples_per_second': 1.522, 'train_steps_per_second': 0.761, 'train_loss': 0.6326761483712842, 'epoch': 2.0}\n",
      "Training complete. Model and tokenizer saved.\n"
     ]
    }
   ],
   "source": [
    "import pandas as pd\n",
    "from transformers import GPT2LMHeadModel, GPT2Tokenizer, Trainer, TrainingArguments\n",
    "from datasets import Dataset, DatasetDict\n",
    "from sklearn.model_selection import train_test_split\n",
    "\n",
    "# Split the dataset into train and validation sets\n",
    "train_df, val_df = train_test_split(df, test_size=0.2, random_state=42)\n",
    "\n",
    "# Convert to Hugging Face Dataset\n",
    "train_data = Dataset.from_pandas(train_df)\n",
    "val_data = Dataset.from_pandas(val_df)\n",
    "\n",
    "datasets = DatasetDict({\n",
    "    'train': train_data,\n",
    "    'validation': val_data\n",
    "})\n",
    "\n",
    "# Load pre-trained DistilGPT2 model and tokenizer\n",
    "model_name = \"distilgpt2\"\n",
    "tokenizer = GPT2Tokenizer.from_pretrained(model_name)\n",
    "\n",
    "# Add a padding token\n",
    "tokenizer.pad_token = tokenizer.eos_token\n",
    "\n",
    "model = GPT2LMHeadModel.from_pretrained(model_name).to(device)\n",
    "\n",
    "# Define a function to tokenize the dataset\n",
    "def tokenize_function(examples):\n",
    "    questions = examples['question']\n",
    "    answers = examples['answer']\n",
    "    inputs = [f\"Question: {q} Answer: {a}\" for q, a in zip(questions, answers)]\n",
    "    model_inputs = tokenizer(inputs, padding=\"max_length\", truncation=True, max_length=1024)\n",
    "    model_inputs[\"labels\"] = model_inputs[\"input_ids\"].copy()\n",
    "    return model_inputs\n",
    "\n",
    "# Tokenize the dataset\n",
    "tokenized_datasets = datasets.map(tokenize_function, batched=True)\n",
    "\n",
    "# Prepare the dataset for PyTorch\n",
    "def format_dataset(tokenized_dataset):\n",
    "    return tokenized_dataset.with_format(\"torch\")\n",
    "\n",
    "train_dataset = format_dataset(tokenized_datasets['train'])\n",
    "val_dataset = format_dataset(tokenized_datasets['validation'])\n",
    "\n",
    "# Define training arguments\n",
    "training_args = TrainingArguments(\n",
    "    output_dir=\"./results\",                 # Output directory\n",
    "    evaluation_strategy=\"epoch\",            # Evaluation strategy\n",
    "    per_device_train_batch_size=2,          # Batch size for training\n",
    "    per_device_eval_batch_size=2,           # Batch size for evaluation\n",
    "    num_train_epochs=2,                     # Number of training epochs\n",
    "    weight_decay=0.01,                      # Weight decay\n",
    "    logging_dir=\"./logs\",                   # Directory for logs\n",
    "    save_steps=1000,                         # Save checkpoints every 1000 steps\n",
    "    save_total_limit=2,                     # Keep only the last 3 checkpoints\n",
    "    #fp16=True,                              # Mixed precision training (requires CUDA) (dont use, worsens signific.)\n",
    ")\n",
    "\n",
    "# Initialize the Trainer\n",
    "trainer = Trainer(\n",
    "    model=model,\n",
    "    args=training_args,\n",
    "    train_dataset=train_dataset,\n",
    "    eval_dataset=val_dataset,\n",
    ")\n",
    "\n",
    "# Train the model\n",
    "trainer.train()\n",
    "\n",
    "# Save the fine-tuned model and tokenizer\n",
    "model.save_pretrained(\"fine-tuned-distilgpt2\")\n",
    "tokenizer.save_pretrained(\"fine-tuned-distilgpt2\")\n",
    "\n",
    "print(\"Training complete. Model and tokenizer saved.\")\n"
   ]
  },
  {
   "cell_type": "markdown",
   "metadata": {},
   "source": [
    "## Evaluation of model: Compute the ROGUE score"
   ]
  },
  {
   "cell_type": "code",
   "execution_count": 38,
   "metadata": {},
   "outputs": [],
   "source": [
    "# Load the trained model\n",
    "from transformers import GPT2LMHeadModel, GPT2Tokenizer\n",
    "\n",
    "# Load the tokenizer\n",
    "tokenizer = GPT2Tokenizer.from_pretrained(\"fine-tuned-distilgpt2\")\n",
    "\n",
    "# Load the model\n",
    "model = GPT2LMHeadModel.from_pretrained(\"fine-tuned-distilgpt2\").to(device)\n",
    "\n",
    "# Initialize the scorer\n",
    "from rouge_score import rouge_scorer\n",
    "scorer = rouge_scorer.RougeScorer(['rouge1', 'rouge2'], use_stemmer=True)"
   ]
  },
  {
   "cell_type": "code",
   "execution_count": 54,
   "metadata": {},
   "outputs": [
    {
     "name": "stderr",
     "output_type": "stream",
     "text": [
      "C:\\Users\\vaibh\\AppData\\Roaming\\Python\\Python312\\site-packages\\transformers\\generation\\configuration_utils.py:567: UserWarning: `do_sample` is set to `False`. However, `temperature` is set to `0.7` -- this flag is only used in sample-based generation modes. You should set `do_sample=True` or unset `temperature`.\n",
      "  warnings.warn(\n",
      "C:\\Users\\vaibh\\AppData\\Roaming\\Python\\Python312\\site-packages\\transformers\\generation\\configuration_utils.py:615: UserWarning: `num_beams` is set to 1. However, `early_stopping` is set to `True` -- this flag is only used in beam-based generation modes. You should set `num_beams>1` or unset `early_stopping`.\n",
      "  warnings.warn(\n"
     ]
    },
    {
     "name": "stdout",
     "output_type": "stream",
     "text": [
      "{'rouge1': Score(precision=0.6, recall=0.13953488372093023, fmeasure=0.22641509433962265), 'rouge2': Score(precision=0.21052631578947367, recall=0.047058823529411764, fmeasure=0.07692307692307691)}\n",
      "{'rouge1': Score(precision=0.20202020202020202, recall=0.13245033112582782, fmeasure=0.16), 'rouge2': Score(precision=0.02040816326530612, recall=0.013333333333333334, fmeasure=0.016129032258064516)}\n",
      "{'rouge1': Score(precision=0.007416563658838072, recall=0.3, fmeasure=0.014475271411338963), 'rouge2': Score(precision=0.0012376237623762376, recall=0.05263157894736842, fmeasure=0.0024183796856106408)}\n",
      "{'rouge1': Score(precision=0.06521739130434782, recall=0.4, fmeasure=0.11214953271028037), 'rouge2': Score(precision=0.0, recall=0.0, fmeasure=0.0)}\n",
      "{'rouge1': Score(precision=0.3333333333333333, recall=0.2909090909090909, fmeasure=0.31067961165048535), 'rouge2': Score(precision=0.10638297872340426, recall=0.09259259259259259, fmeasure=0.09900990099009901)}\n",
      "{'rouge1': Score(precision=0.8787878787878788, recall=0.32954545454545453, fmeasure=0.47933884297520657), 'rouge2': Score(precision=0.8125, recall=0.2988505747126437, fmeasure=0.4369747899159664)}\n",
      "{'rouge1': Score(precision=0.25333333333333335, recall=0.3114754098360656, fmeasure=0.27941176470588236), 'rouge2': Score(precision=0.02702702702702703, recall=0.03333333333333333, fmeasure=0.029850746268656716)}\n",
      "{'rouge1': Score(precision=0.07368421052631578, recall=0.42857142857142855, fmeasure=0.12574850299401197), 'rouge2': Score(precision=0.0035211267605633804, recall=0.020833333333333332, fmeasure=0.006024096385542169)}\n",
      "{'rouge1': Score(precision=0.5714285714285714, recall=0.07523510971786834, fmeasure=0.1329639889196676), 'rouge2': Score(precision=0.04878048780487805, recall=0.006289308176100629, fmeasure=0.011142061281337049)}\n",
      "{'rouge1': Score(precision=0.16666666666666666, recall=0.3023255813953488, fmeasure=0.21487603305785125), 'rouge2': Score(precision=0.03896103896103896, recall=0.07142857142857142, fmeasure=0.05042016806722689)}\n",
      "{'rouge1': Score(precision=0.6521739130434783, recall=0.026155187445510025, fmeasure=0.050293378038558254), 'rouge2': Score(precision=0.2, recall=0.007853403141361256, fmeasure=0.015113350125944584)}\n",
      "{'rouge1': Score(precision=0.5, recall=0.28, fmeasure=0.358974358974359), 'rouge2': Score(precision=0.0963855421686747, recall=0.053691275167785234, fmeasure=0.06896551724137931)}\n",
      "{'rouge1': Score(precision=0.021505376344086023, recall=0.45454545454545453, fmeasure=0.041067761806981525), 'rouge2': Score(precision=0.0032292787944025836, recall=0.06976744186046512, fmeasure=0.00617283950617284)}\n",
      "{'rouge1': Score(precision=0.45454545454545453, recall=0.12931034482758622, fmeasure=0.20134228187919462), 'rouge2': Score(precision=0.09375, recall=0.02608695652173913, fmeasure=0.04081632653061224)}\n",
      "{'rouge1': Score(precision=0.38461538461538464, recall=0.13513513513513514, fmeasure=0.2), 'rouge2': Score(precision=0.046875, recall=0.016304347826086956, fmeasure=0.02419354838709677)}\n",
      "{'rouge1': Score(precision=0.0759493670886076, recall=0.2727272727272727, fmeasure=0.1188118811881188), 'rouge2': Score(precision=0.01282051282051282, recall=0.047619047619047616, fmeasure=0.0202020202020202)}\n",
      "{'rouge1': Score(precision=0.21875, recall=0.3684210526315789, fmeasure=0.2745098039215686), 'rouge2': Score(precision=0.06451612903225806, recall=0.1111111111111111, fmeasure=0.08163265306122448)}\n",
      "{'rouge1': Score(precision=0.25, recall=0.028985507246376812, fmeasure=0.051948051948051945), 'rouge2': Score(precision=0.0, recall=0.0, fmeasure=0.0)}\n",
      "{'rouge1': Score(precision=0.4918032786885246, recall=0.1214574898785425, fmeasure=0.1948051948051948), 'rouge2': Score(precision=0.13333333333333333, recall=0.032520325203252036, fmeasure=0.0522875816993464)}\n",
      "{'rouge1': Score(precision=0.2916666666666667, recall=0.22950819672131148, fmeasure=0.25688073394495414), 'rouge2': Score(precision=0.0425531914893617, recall=0.03333333333333333, fmeasure=0.037383177570093455)}\n",
      "{'rouge1': Score(precision=0.16279069767441862, recall=0.30434782608695654, fmeasure=0.21212121212121213), 'rouge2': Score(precision=0.0, recall=0.0, fmeasure=0.0)}\n",
      "{'rouge1': Score(precision=0.052570093457943924, recall=0.13803680981595093, fmeasure=0.07614213197969544), 'rouge2': Score(precision=0.0035087719298245615, recall=0.009230769230769232, fmeasure=0.005084745762711865)}\n",
      "{'rouge1': Score(precision=0.7, recall=0.07179487179487179, fmeasure=0.13023255813953488), 'rouge2': Score(precision=0.2631578947368421, recall=0.02577319587628866, fmeasure=0.046948356807511735)}\n",
      "{'rouge1': Score(precision=0.7777777777777778, recall=0.07553956834532374, fmeasure=0.1377049180327869), 'rouge2': Score(precision=0.19230769230769232, recall=0.018050541516245487, fmeasure=0.033003300330033)}\n",
      "{'rouge1': Score(precision=0.01827956989247312, recall=0.1452991452991453, fmeasure=0.03247373447946514), 'rouge2': Score(precision=0.006458557588805167, recall=0.05172413793103448, fmeasure=0.011483253588516746)}\n",
      "{'rouge1': Score(precision=0.15771812080536912, recall=0.31685393258426964, fmeasure=0.210604929051531), 'rouge2': Score(precision=0.020156774916013438, recall=0.04054054054054054, fmeasure=0.02692595362752431)}\n",
      "{'rouge1': Score(precision=0.0, recall=0.0, fmeasure=0.0), 'rouge2': Score(precision=0.0, recall=0.0, fmeasure=0.0)}\n",
      "{'rouge1': Score(precision=0.038910505836575876, recall=0.5555555555555556, fmeasure=0.07272727272727272), 'rouge2': Score(precision=0.0025974025974025974, recall=0.03773584905660377, fmeasure=0.004860267314702308)}\n",
      "{'rouge1': Score(precision=0.5714285714285714, recall=0.07453416149068323, fmeasure=0.13186813186813187), 'rouge2': Score(precision=0.1, recall=0.0125, fmeasure=0.022222222222222227)}\n",
      "{'rouge1': Score(precision=0.28421052631578947, recall=0.12217194570135746, fmeasure=0.17088607594936708), 'rouge2': Score(precision=0.031914893617021274, recall=0.013636363636363636, fmeasure=0.01910828025477707)}\n",
      "{'rouge1': Score(precision=0.2857142857142857, recall=0.358974358974359, fmeasure=0.31818181818181823), 'rouge2': Score(precision=0.10416666666666667, recall=0.13157894736842105, fmeasure=0.11627906976744186)}\n",
      "{'rouge1': Score(precision=0.06666666666666667, recall=0.18181818181818182, fmeasure=0.0975609756097561), 'rouge2': Score(precision=0.0, recall=0.0, fmeasure=0.0)}\n",
      "{'rouge1': Score(precision=0.3090909090909091, recall=0.19540229885057472, fmeasure=0.23943661971830987), 'rouge2': Score(precision=0.0, recall=0.0, fmeasure=0.0)}\n",
      "{'rouge1': Score(precision=0.024608501118568233, recall=0.3728813559322034, fmeasure=0.046169989506820566), 'rouge2': Score(precision=0.0033594624860022394, recall=0.05172413793103448, fmeasure=0.006309148264984227)}\n",
      "{'rouge1': Score(precision=0.6046511627906976, recall=0.10276679841897234, fmeasure=0.17567567567567569), 'rouge2': Score(precision=0.09523809523809523, recall=0.015873015873015872, fmeasure=0.027210884353741496)}\n",
      "{'rouge1': Score(precision=0.40816326530612246, recall=0.149812734082397, fmeasure=0.2191780821917808), 'rouge2': Score(precision=0.07179487179487179, recall=0.02626641651031895, fmeasure=0.038461538461538464)}\n",
      "{'rouge1': Score(precision=0.012917115177610334, recall=0.2222222222222222, fmeasure=0.02441505595116989), 'rouge2': Score(precision=0.0021551724137931034, recall=0.03773584905660377, fmeasure=0.004077471967380225)}\n",
      "{'rouge1': Score(precision=0.04819277108433735, recall=0.48, fmeasure=0.08759124087591241), 'rouge2': Score(precision=0.024193548387096774, recall=0.25, fmeasure=0.04411764705882353)}\n",
      "{'rouge1': Score(precision=0.02796420581655481, recall=0.30120481927710846, fmeasure=0.0511770726714432), 'rouge2': Score(precision=0.006718924972004479, recall=0.07317073170731707, fmeasure=0.012307692307692306)}\n",
      "{'rouge1': Score(precision=0.375, recall=0.22727272727272727, fmeasure=0.2830188679245283), 'rouge2': Score(precision=0.0, recall=0.0, fmeasure=0.0)}\n",
      "{'rouge1': Score(precision=0.0, recall=0.0, fmeasure=0.0), 'rouge2': Score(precision=0.0, recall=0.0, fmeasure=0.0)}\n",
      "{'rouge1': Score(precision=0.07979407979407979, recall=0.31794871794871793, fmeasure=0.12757201646090535), 'rouge2': Score(precision=0.001288659793814433, recall=0.005154639175257732, fmeasure=0.002061855670103093)}\n",
      "{'rouge1': Score(precision=0.11180904522613065, recall=0.19690265486725664, fmeasure=0.14262820512820512), 'rouge2': Score(precision=0.02389937106918239, recall=0.04212860310421286, fmeasure=0.030497592295345103)}\n",
      "{'rouge1': Score(precision=0.3793103448275862, recall=0.21153846153846154, fmeasure=0.2716049382716049), 'rouge2': Score(precision=0.03571428571428571, recall=0.0196078431372549, fmeasure=0.025316455696202528)}\n",
      "{'rouge1': Score(precision=0.34782608695652173, recall=0.17266187050359713, fmeasure=0.23076923076923078), 'rouge2': Score(precision=0.0, recall=0.0, fmeasure=0.0)}\n",
      "{'rouge1': Score(precision=0.42857142857142855, recall=0.35, fmeasure=0.3853211009174312), 'rouge2': Score(precision=0.20833333333333334, recall=0.1694915254237288, fmeasure=0.18691588785046728)}\n",
      "{'rouge1': Score(precision=0.12037037037037036, recall=0.2765957446808511, fmeasure=0.16774193548387098), 'rouge2': Score(precision=0.009345794392523364, recall=0.021739130434782608, fmeasure=0.013071895424836598)}\n",
      "{'rouge1': Score(precision=0.1875, recall=0.1, fmeasure=0.13043478260869568), 'rouge2': Score(precision=0.0, recall=0.0, fmeasure=0.0)}\n",
      "{'rouge1': Score(precision=0.6296296296296297, recall=0.08415841584158416, fmeasure=0.14847161572052403), 'rouge2': Score(precision=0.23076923076923078, recall=0.029850746268656716, fmeasure=0.052863436123348026)}\n",
      "{'rouge1': Score(precision=0.1206896551724138, recall=0.14893617021276595, fmeasure=0.13333333333333333), 'rouge2': Score(precision=0.0, recall=0.0, fmeasure=0.0)}\n",
      "{'rouge1': Score(precision=0.14814814814814814, recall=0.13793103448275862, fmeasure=0.14285714285714285), 'rouge2': Score(precision=0.0, recall=0.0, fmeasure=0.0)}\n",
      "{'rouge1': Score(precision=0.4411764705882353, recall=0.10273972602739725, fmeasure=0.16666666666666666), 'rouge2': Score(precision=0.12121212121212122, recall=0.027586206896551724, fmeasure=0.0449438202247191)}\n",
      "{'rouge1': Score(precision=0.2727272727272727, recall=0.18181818181818182, fmeasure=0.21818181818181817), 'rouge2': Score(precision=0.047619047619047616, recall=0.03125, fmeasure=0.03773584905660377)}\n",
      "{'rouge1': Score(precision=0.41935483870967744, recall=0.0896551724137931, fmeasure=0.14772727272727273), 'rouge2': Score(precision=0.1, recall=0.020833333333333332, fmeasure=0.034482758620689655)}\n",
      "{'rouge1': Score(precision=0.085, recall=0.22006472491909385, fmeasure=0.12263300270513977), 'rouge2': Score(precision=0.0025031289111389237, recall=0.006493506493506494, fmeasure=0.003613369467028004)}\n",
      "{'rouge1': Score(precision=0.22727272727272727, recall=0.3125, fmeasure=0.2631578947368421), 'rouge2': Score(precision=0.034482758620689655, recall=0.047619047619047616, fmeasure=0.04)}\n",
      "{'rouge1': Score(precision=0.4411764705882353, recall=0.08108108108108109, fmeasure=0.136986301369863), 'rouge2': Score(precision=0.09090909090909091, recall=0.016304347826086956, fmeasure=0.027649769585253454)}\n",
      "{'rouge1': Score(precision=0.6585365853658537, recall=0.0665024630541872, fmeasure=0.1208053691275168), 'rouge2': Score(precision=0.05, recall=0.0049382716049382715, fmeasure=0.00898876404494382)}\n",
      "{'rouge1': Score(precision=0.6206896551724138, recall=0.21951219512195122, fmeasure=0.32432432432432434), 'rouge2': Score(precision=0.03571428571428571, recall=0.012345679012345678, fmeasure=0.01834862385321101)}\n",
      "{'rouge1': Score(precision=0.043478260869565216, recall=0.125, fmeasure=0.06451612903225806), 'rouge2': Score(precision=0.0, recall=0.0, fmeasure=0.0)}\n",
      "{'rouge1': Score(precision=0.47297297297297297, recall=0.3684210526315789, fmeasure=0.4142011834319526), 'rouge2': Score(precision=0.0821917808219178, recall=0.06382978723404255, fmeasure=0.07185628742514971)}\n",
      "{'rouge1': Score(precision=0.3333333333333333, recall=0.024539877300613498, fmeasure=0.04571428571428571), 'rouge2': Score(precision=0.0, recall=0.0, fmeasure=0.0)}\n",
      "{'rouge1': Score(precision=0.035527690700104496, recall=0.23776223776223776, fmeasure=0.061818181818181835), 'rouge2': Score(precision=0.007322175732217573, recall=0.04929577464788732, fmeasure=0.012750455373406192)}\n",
      "{'rouge1': Score(precision=0.19117647058823528, recall=0.19117647058823528, fmeasure=0.1911764705882353), 'rouge2': Score(precision=0.04477611940298507, recall=0.04477611940298507, fmeasure=0.04477611940298508)}\n",
      "{'rouge1': Score(precision=0.0, recall=0.0, fmeasure=0.0), 'rouge2': Score(precision=0.0, recall=0.0, fmeasure=0.0)}\n",
      "{'rouge1': Score(precision=0.16666666666666666, recall=0.3125, fmeasure=0.21739130434782608), 'rouge2': Score(precision=0.0, recall=0.0, fmeasure=0.0)}\n",
      "{'rouge1': Score(precision=0.18181818181818182, recall=0.2631578947368421, fmeasure=0.21505376344086022), 'rouge2': Score(precision=0.0, recall=0.0, fmeasure=0.0)}\n",
      "{'rouge1': Score(precision=0.543859649122807, recall=0.13191489361702127, fmeasure=0.2123287671232877), 'rouge2': Score(precision=0.05357142857142857, recall=0.01282051282051282, fmeasure=0.020689655172413793)}\n",
      "{'rouge1': Score(precision=0.22916666666666666, recall=0.13253012048192772, fmeasure=0.16793893129770993), 'rouge2': Score(precision=0.02127659574468085, recall=0.012195121951219513, fmeasure=0.015503875968992248)}\n",
      "{'rouge1': Score(precision=0.0020898641588296763, recall=0.13333333333333333, fmeasure=0.00411522633744856), 'rouge2': Score(precision=0.0, recall=0.0, fmeasure=0.0)}\n",
      "{'rouge1': Score(precision=0.12777053455019557, recall=0.33220338983050846, fmeasure=0.1845574387947269), 'rouge2': Score(precision=0.020887728459530026, recall=0.05442176870748299, fmeasure=0.03018867924528302)}\n",
      "{'rouge1': Score(precision=0.07228915662650602, recall=0.3333333333333333, fmeasure=0.1188118811881188), 'rouge2': Score(precision=0.0, recall=0.0, fmeasure=0.0)}\n",
      "{'rouge1': Score(precision=0.28716645489199494, recall=0.13444378346222485, fmeasure=0.18314424635332252), 'rouge2': Score(precision=0.04961832061068702, recall=0.023214285714285715, fmeasure=0.031630170316301706)}\n",
      "{'rouge1': Score(precision=0.7837837837837838, recall=0.16201117318435754, fmeasure=0.2685185185185185), 'rouge2': Score(precision=0.3835616438356164, recall=0.0784313725490196, fmeasure=0.13023255813953488)}\n",
      "{'rouge1': Score(precision=0.14484679665738162, recall=0.5909090909090909, fmeasure=0.23266219239373603), 'rouge2': Score(precision=0.03910614525139665, recall=0.16091954022988506, fmeasure=0.06292134831460675)}\n",
      "{'rouge1': Score(precision=0.5211267605633803, recall=0.07974137931034483, fmeasure=0.1383177570093458), 'rouge2': Score(precision=0.15714285714285714, recall=0.023758099352051837, fmeasure=0.04127579737335835)}\n",
      "{'rouge1': Score(precision=0.0, recall=0.0, fmeasure=0.0), 'rouge2': Score(precision=0.0, recall=0.0, fmeasure=0.0)}\n",
      "{'rouge1': Score(precision=0.3877551020408163, recall=0.08050847457627118, fmeasure=0.1333333333333333), 'rouge2': Score(precision=0.0, recall=0.0, fmeasure=0.0)}\n",
      "{'rouge1': Score(precision=0.9090909090909091, recall=0.21978021978021978, fmeasure=0.35398230088495575), 'rouge2': Score(precision=0.9047619047619048, recall=0.2111111111111111, fmeasure=0.34234234234234234)}\n",
      "{'rouge1': Score(precision=0.29213483146067415, recall=0.17333333333333334, fmeasure=0.2175732217573222), 'rouge2': Score(precision=0.045454545454545456, recall=0.026845637583892617, fmeasure=0.03375527426160337)}\n",
      "{'rouge1': Score(precision=0.017084282460136675, recall=0.2112676056338028, fmeasure=0.031612223393045306), 'rouge2': Score(precision=0.004561003420752566, recall=0.05714285714285714, fmeasure=0.008447729672650476)}\n",
      "{'rouge1': Score(precision=0.007017543859649123, recall=0.3333333333333333, fmeasure=0.013745704467353952), 'rouge2': Score(precision=0.0, recall=0.0, fmeasure=0.0)}\n",
      "{'rouge1': Score(precision=0.02761795166858458, recall=0.2962962962962963, fmeasure=0.050526315789473676), 'rouge2': Score(precision=0.0069124423963133645, recall=0.075, fmeasure=0.012658227848101267)}\n",
      "{'rouge1': Score(precision=0.6268656716417911, recall=0.10552763819095477, fmeasure=0.18064516129032257), 'rouge2': Score(precision=0.15151515151515152, recall=0.02518891687657431, fmeasure=0.04319654427645788)}\n",
      "{'rouge1': Score(precision=0.0, recall=0.0, fmeasure=0.0), 'rouge2': Score(precision=0.0, recall=0.0, fmeasure=0.0)}\n",
      "{'rouge1': Score(precision=0.1521486643437863, recall=0.40809968847352024, fmeasure=0.22165820642978), 'rouge2': Score(precision=0.02441860465116279, recall=0.065625, fmeasure=0.03559322033898305)}\n",
      "{'rouge1': Score(precision=0.030303030303030304, recall=0.3333333333333333, fmeasure=0.05555555555555555), 'rouge2': Score(precision=0.0, recall=0.0, fmeasure=0.0)}\n",
      "{'rouge1': Score(precision=0.5658914728682171, recall=0.22884012539184953, fmeasure=0.32589285714285715), 'rouge2': Score(precision=0.15625, recall=0.06289308176100629, fmeasure=0.08968609865470852)}\n",
      "{'rouge1': Score(precision=0.1574074074074074, recall=0.38345864661654133, fmeasure=0.22319474835886216), 'rouge2': Score(precision=0.02786377708978328, recall=0.06818181818181818, fmeasure=0.03956043956043956)}\n",
      "{'rouge1': Score(precision=0.10526315789473684, recall=0.5454545454545454, fmeasure=0.1764705882352941), 'rouge2': Score(precision=0.017857142857142856, recall=0.1, fmeasure=0.030303030303030304)}\n",
      "{'rouge1': Score(precision=0.5306122448979592, recall=0.11926605504587157, fmeasure=0.1947565543071161), 'rouge2': Score(precision=0.125, recall=0.027649769585253458, fmeasure=0.04528301886792453)}\n",
      "{'rouge1': Score(precision=0.0, recall=0.0, fmeasure=0.0), 'rouge2': Score(precision=0.0, recall=0.0, fmeasure=0.0)}\n",
      "{'rouge1': Score(precision=0.23214285714285715, recall=0.325, fmeasure=0.27083333333333337), 'rouge2': Score(precision=0.05454545454545454, recall=0.07692307692307693, fmeasure=0.06382978723404256)}\n",
      "{'rouge1': Score(precision=0.5161290322580645, recall=0.125, fmeasure=0.20125786163522014), 'rouge2': Score(precision=0.16666666666666666, recall=0.03937007874015748, fmeasure=0.06369426751592357)}\n",
      "{'rouge1': Score(precision=0.26811594202898553, recall=0.29133858267716534, fmeasure=0.2792452830188679), 'rouge2': Score(precision=0.0364963503649635, recall=0.03968253968253968, fmeasure=0.03802281368821293)}\n",
      "{'rouge1': Score(precision=0.25806451612903225, recall=0.2962962962962963, fmeasure=0.27586206896551724), 'rouge2': Score(precision=0.03333333333333333, recall=0.038461538461538464, fmeasure=0.03571428571428572)}\n",
      "{'rouge1': Score(precision=0.2, recall=0.14285714285714285, fmeasure=0.16666666666666666), 'rouge2': Score(precision=0.0, recall=0.0, fmeasure=0.0)}\n",
      "{'rouge1': Score(precision=0.0, recall=0.0, fmeasure=0.0), 'rouge2': Score(precision=0.0, recall=0.0, fmeasure=0.0)}\n",
      "{'rouge1': Score(precision=0.05263157894736842, recall=0.18181818181818182, fmeasure=0.08163265306122448), 'rouge2': Score(precision=0.0, recall=0.0, fmeasure=0.0)}\n",
      "{'rouge1': Score(precision=0.47619047619047616, recall=0.2127659574468085, fmeasure=0.29411764705882354), 'rouge2': Score(precision=0.1566265060240964, recall=0.06951871657754011, fmeasure=0.0962962962962963)}\n",
      "{'rouge1': Score(precision=0.8333333333333334, recall=0.016764459346186086, fmeasure=0.03286770747740345), 'rouge2': Score(precision=0.30434782608695654, recall=0.00587248322147651, fmeasure=0.01152263374485597)}\n",
      "{'rouge1': Score(precision=0.0967741935483871, recall=0.23076923076923078, fmeasure=0.13636363636363635), 'rouge2': Score(precision=0.0, recall=0.0, fmeasure=0.0)}\n",
      "{'rouge1': Score(precision=0.10526315789473684, recall=0.11764705882352941, fmeasure=0.1111111111111111), 'rouge2': Score(precision=0.0, recall=0.0, fmeasure=0.0)}\n",
      "{'rouge1': Score(precision=0.10666666666666667, recall=0.2857142857142857, fmeasure=0.1553398058252427), 'rouge2': Score(precision=0.02702702702702703, recall=0.07407407407407407, fmeasure=0.039603960396039604)}\n",
      "{'rouge1': Score(precision=0.6428571428571429, recall=0.06474820143884892, fmeasure=0.1176470588235294), 'rouge2': Score(precision=0.1111111111111111, recall=0.010830324909747292, fmeasure=0.019736842105263157)}\n",
      "{'rouge1': Score(precision=0.2781456953642384, recall=0.2754098360655738, fmeasure=0.27677100494233936), 'rouge2': Score(precision=0.04983388704318937, recall=0.049342105263157895, fmeasure=0.04958677685950413)}\n",
      "{'rouge1': Score(precision=0.7, recall=0.051362683438155136, fmeasure=0.095703125), 'rouge2': Score(precision=0.13043478260869565, recall=0.00944386149003148, fmeasure=0.01761252446183953)}\n",
      "{'rouge1': Score(precision=0.2653061224489796, recall=0.40625, fmeasure=0.32098765432098764), 'rouge2': Score(precision=0.16666666666666666, recall=0.25806451612903225, fmeasure=0.20253164556962025)}\n",
      "{'rouge1': Score(precision=0.18518518518518517, recall=0.1652892561983471, fmeasure=0.17467248908296942), 'rouge2': Score(precision=0.028037383177570093, recall=0.025, fmeasure=0.026431718061674013)}\n",
      "{'rouge1': Score(precision=0.020713463751438434, recall=0.3157894736842105, fmeasure=0.03887688984881209), 'rouge2': Score(precision=0.004608294930875576, recall=0.07142857142857142, fmeasure=0.008658008658008658)}\n",
      "{'rouge1': Score(precision=0.5, recall=0.06593406593406594, fmeasure=0.11650485436893204), 'rouge2': Score(precision=0.09090909090909091, recall=0.011111111111111112, fmeasure=0.019801980198019802)}\n",
      "{'rouge1': Score(precision=0.13852242744063326, recall=0.26054590570719605, fmeasure=0.18087855297157623), 'rouge2': Score(precision=0.018494055482166448, recall=0.03482587064676617, fmeasure=0.024158757549611738)}\n",
      "{'rouge1': Score(precision=0.375, recall=0.3076923076923077, fmeasure=0.3380281690140845), 'rouge2': Score(precision=0.03225806451612903, recall=0.02631578947368421, fmeasure=0.02898550724637681)}\n",
      "{'rouge1': Score(precision=0.08, recall=0.06451612903225806, fmeasure=0.07142857142857142), 'rouge2': Score(precision=0.0, recall=0.0, fmeasure=0.0)}\n",
      "{'rouge1': Score(precision=0.09090909090909091, recall=0.09090909090909091, fmeasure=0.09090909090909091), 'rouge2': Score(precision=0.0, recall=0.0, fmeasure=0.0)}\n",
      "{'rouge1': Score(precision=0.014545454545454545, recall=0.25, fmeasure=0.027491408934707907), 'rouge2': Score(precision=0.0, recall=0.0, fmeasure=0.0)}\n",
      "{'rouge1': Score(precision=0.39285714285714285, recall=0.275, fmeasure=0.32352941176470584), 'rouge2': Score(precision=0.10843373493975904, recall=0.07563025210084033, fmeasure=0.0891089108910891)}\n",
      "{'rouge1': Score(precision=0.8292682926829268, recall=0.04594594594594595, fmeasure=0.08706786171574904), 'rouge2': Score(precision=0.425, recall=0.023004059539918808, fmeasure=0.043645699614890884)}\n",
      "{'rouge1': Score(precision=0.24390243902439024, recall=0.1724137931034483, fmeasure=0.20202020202020202), 'rouge2': Score(precision=0.0, recall=0.0, fmeasure=0.0)}\n",
      "{'rouge1': Score(precision=0.14491150442477876, recall=0.2578740157480315, fmeasure=0.18555240793201133), 'rouge2': Score(precision=0.029900332225913623, recall=0.05325443786982249, fmeasure=0.03829787234042554)}\n",
      "{'rouge1': Score(precision=0.3898305084745763, recall=0.22115384615384615, fmeasure=0.28220858895705525), 'rouge2': Score(precision=0.0, recall=0.0, fmeasure=0.0)}\n",
      "{'rouge1': Score(precision=0.045454545454545456, recall=0.1, fmeasure=0.06250000000000001), 'rouge2': Score(precision=0.0, recall=0.0, fmeasure=0.0)}\n",
      "{'rouge1': Score(precision=0.5338983050847458, recall=0.2413793103448276, fmeasure=0.33245382585751976), 'rouge2': Score(precision=0.07659574468085106, recall=0.0345489443378119, fmeasure=0.04761904761904762)}\n",
      "{'rouge1': Score(precision=0.17142857142857143, recall=0.34554973821989526, fmeasure=0.22916666666666666), 'rouge2': Score(precision=0.057291666666666664, recall=0.11578947368421053, fmeasure=0.07665505226480837)}\n",
      "{'rouge1': Score(precision=0.043478260869565216, recall=0.09090909090909091, fmeasure=0.0588235294117647), 'rouge2': Score(precision=0.0, recall=0.0, fmeasure=0.0)}\n",
      "{'rouge1': Score(precision=0.007963594994311717, recall=0.16279069767441862, fmeasure=0.015184381778741865), 'rouge2': Score(precision=0.0, recall=0.0, fmeasure=0.0)}\n",
      "{'rouge1': Score(precision=0.02857142857142857, recall=1.0, fmeasure=0.05555555555555556), 'rouge2': Score(precision=0.0, recall=0.0, fmeasure=0.0)}\n",
      "{'rouge1': Score(precision=0.023084994753410283, recall=0.3384615384615385, fmeasure=0.043222003929273084), 'rouge2': Score(precision=0.0010504201680672268, recall=0.015625, fmeasure=0.001968503937007874)}\n",
      "{'rouge1': Score(precision=0.09454545454545454, recall=0.23353293413173654, fmeasure=0.13459879206212252), 'rouge2': Score(precision=0.0048543689320388345, recall=0.012012012012012012, fmeasure=0.006914433880726016)}\n",
      "{'rouge1': Score(precision=0.03690888119953864, recall=0.18497109826589594, fmeasure=0.06153846153846154), 'rouge2': Score(precision=0.0011547344110854503, recall=0.005813953488372093, fmeasure=0.0019267822736030828)}\n",
      "{'rouge1': Score(precision=0.53125, recall=0.2073170731707317, fmeasure=0.29824561403508776), 'rouge2': Score(precision=0.0, recall=0.0, fmeasure=0.0)}\n",
      "{'rouge1': Score(precision=0.2251655629139073, recall=0.1152542372881356, fmeasure=0.1524663677130045), 'rouge2': Score(precision=0.006666666666666667, recall=0.003401360544217687, fmeasure=0.0045045045045045045)}\n",
      "{'rouge1': Score(precision=0.15303430079155672, recall=0.2761904761904762, fmeasure=0.19694397283531406), 'rouge2': Score(precision=0.018494055482166448, recall=0.03341288782816229, fmeasure=0.02380952380952381)}\n",
      "{'rouge1': Score(precision=0.3888888888888889, recall=0.08045977011494253, fmeasure=0.13333333333333333), 'rouge2': Score(precision=0.058823529411764705, recall=0.011627906976744186, fmeasure=0.019417475728155338)}\n",
      "{'rouge1': Score(precision=0.04171011470281543, recall=0.09070294784580499, fmeasure=0.057142857142857134), 'rouge2': Score(precision=0.0020876826722338203, recall=0.004545454545454545, fmeasure=0.0028612303290414874)}\n",
      "{'rouge1': Score(precision=0.18181818181818182, recall=0.23529411764705882, fmeasure=0.20512820512820512), 'rouge2': Score(precision=0.047619047619047616, recall=0.0625, fmeasure=0.05405405405405405)}\n",
      "{'rouge1': Score(precision=0.17647058823529413, recall=0.21428571428571427, fmeasure=0.1935483870967742), 'rouge2': Score(precision=0.0, recall=0.0, fmeasure=0.0)}\n",
      "{'rouge1': Score(precision=0.5925925925925926, recall=0.2277580071174377, fmeasure=0.32904884318766064), 'rouge2': Score(precision=0.1588785046728972, recall=0.060714285714285714, fmeasure=0.08785529715762273)}\n",
      "{'rouge1': Score(precision=0.04081632653061224, recall=0.1111111111111111, fmeasure=0.05970149253731343), 'rouge2': Score(precision=0.0, recall=0.0, fmeasure=0.0)}\n",
      "{'rouge1': Score(precision=0.004314994606256742, recall=0.3333333333333333, fmeasure=0.008519701810436634), 'rouge2': Score(precision=0.0, recall=0.0, fmeasure=0.0)}\n",
      "{'rouge1': Score(precision=0.3870967741935484, recall=0.12371134020618557, fmeasure=0.1875), 'rouge2': Score(precision=0.0, recall=0.0, fmeasure=0.0)}\n",
      "{'rouge1': Score(precision=0.25, recall=0.7142857142857143, fmeasure=0.37037037037037035), 'rouge2': Score(precision=0.07692307692307693, recall=0.23076923076923078, fmeasure=0.11538461538461538)}\n",
      "{'rouge1': Score(precision=0.004171011470281543, recall=0.19047619047619047, fmeasure=0.00816326530612245), 'rouge2': Score(precision=0.0, recall=0.0, fmeasure=0.0)}\n",
      "{'rouge1': Score(precision=0.008353221957040573, recall=0.2692307692307692, fmeasure=0.016203703703703703), 'rouge2': Score(precision=0.0011947431302270011, recall=0.04, fmeasure=0.002320185614849188)}\n",
      "{'rouge1': Score(precision=0.29411764705882354, recall=0.11627906976744186, fmeasure=0.16666666666666666), 'rouge2': Score(precision=0.0, recall=0.0, fmeasure=0.0)}\n",
      "{'rouge1': Score(precision=0.0, recall=0.0, fmeasure=0.0), 'rouge2': Score(precision=0.0, recall=0.0, fmeasure=0.0)}\n",
      "{'rouge1': Score(precision=0.11196911196911197, recall=0.35802469135802467, fmeasure=0.17058823529411765), 'rouge2': Score(precision=0.0, recall=0.0, fmeasure=0.0)}\n",
      "{'rouge1': Score(precision=0.06382978723404255, recall=0.6666666666666666, fmeasure=0.11650485436893203), 'rouge2': Score(precision=0.0, recall=0.0, fmeasure=0.0)}\n",
      "{'rouge1': Score(precision=0.024539877300613498, recall=0.36363636363636365, fmeasure=0.04597701149425287), 'rouge2': Score(precision=0.006172839506172839, recall=0.1, fmeasure=0.011627906976744186)}\n",
      "{'rouge1': Score(precision=0.7142857142857143, recall=0.05952380952380952, fmeasure=0.10989010989010989), 'rouge2': Score(precision=0.18518518518518517, recall=0.014925373134328358, fmeasure=0.027624309392265196)}\n",
      "{'rouge1': Score(precision=0.042027194066749075, recall=0.19767441860465115, fmeasure=0.06931702344546382), 'rouge2': Score(precision=0.0037128712871287127, recall=0.017543859649122806, fmeasure=0.006128702757916241)}\n",
      "{'rouge1': Score(precision=0.45, recall=0.05806451612903226, fmeasure=0.10285714285714287), 'rouge2': Score(precision=0.15789473684210525, recall=0.01948051948051948, fmeasure=0.03468208092485549)}\n",
      "{'rouge1': Score(precision=0.14893617021276595, recall=0.4666666666666667, fmeasure=0.22580645161290325), 'rouge2': Score(precision=0.021739130434782608, recall=0.07142857142857142, fmeasure=0.03333333333333333)}\n",
      "{'rouge1': Score(precision=0.06976744186046512, recall=0.42857142857142855, fmeasure=0.12), 'rouge2': Score(precision=0.023809523809523808, recall=0.16666666666666666, fmeasure=0.041666666666666664)}\n",
      "{'rouge1': Score(precision=0.09975062344139651, recall=0.13050570962479607, fmeasure=0.11307420494699648), 'rouge2': Score(precision=0.0, recall=0.0, fmeasure=0.0)}\n",
      "{'rouge1': Score(precision=0.5476190476190477, recall=0.1619718309859155, fmeasure=0.25), 'rouge2': Score(precision=0.12195121951219512, recall=0.03546099290780142, fmeasure=0.05494505494505495)}\n",
      "{'rouge1': Score(precision=0.010427528675703858, recall=0.08928571428571429, fmeasure=0.01867413632119514), 'rouge2': Score(precision=0.0, recall=0.0, fmeasure=0.0)}\n",
      "{'rouge1': Score(precision=0.7333333333333333, recall=0.08461538461538462, fmeasure=0.15172413793103448), 'rouge2': Score(precision=0.2857142857142857, recall=0.031007751937984496, fmeasure=0.055944055944055944)}\n",
      "{'rouge1': Score(precision=0.05555555555555555, recall=0.06666666666666667, fmeasure=0.0606060606060606), 'rouge2': Score(precision=0.0, recall=0.0, fmeasure=0.0)}\n",
      "{'rouge1': Score(precision=0.8, recall=0.09846153846153846, fmeasure=0.17534246575342466), 'rouge2': Score(precision=0.38461538461538464, recall=0.046296296296296294, fmeasure=0.08264462809917356)}\n",
      "{'rouge1': Score(precision=0.14736842105263157, recall=0.208955223880597, fmeasure=0.1728395061728395), 'rouge2': Score(precision=0.0425531914893617, recall=0.06060606060606061, fmeasure=0.049999999999999996)}\n",
      "{'rouge1': Score(precision=0.0, recall=0.0, fmeasure=0.0), 'rouge2': Score(precision=0.0, recall=0.0, fmeasure=0.0)}\n",
      "{'rouge1': Score(precision=0.6875, recall=0.02335456475583864, fmeasure=0.045174537987679675), 'rouge2': Score(precision=0.26666666666666666, recall=0.00851063829787234, fmeasure=0.016494845360824743)}\n",
      "{'rouge1': Score(precision=0.08695652173913043, recall=0.2857142857142857, fmeasure=0.13333333333333333), 'rouge2': Score(precision=0.0, recall=0.0, fmeasure=0.0)}\n",
      "{'rouge1': Score(precision=0.2835820895522388, recall=0.34545454545454546, fmeasure=0.3114754098360656), 'rouge2': Score(precision=0.06060606060606061, recall=0.07407407407407407, fmeasure=0.06666666666666667)}\n",
      "{'rouge1': Score(precision=0.22033898305084745, recall=0.325, fmeasure=0.2626262626262626), 'rouge2': Score(precision=0.05172413793103448, recall=0.07692307692307693, fmeasure=0.061855670103092786)}\n",
      "{'rouge1': Score(precision=0.046511627906976744, recall=0.3333333333333333, fmeasure=0.08163265306122448), 'rouge2': Score(precision=0.0, recall=0.0, fmeasure=0.0)}\n",
      "{'rouge1': Score(precision=0.5, recall=0.0730593607305936, fmeasure=0.12749003984063745), 'rouge2': Score(precision=0.03225806451612903, recall=0.0045871559633027525, fmeasure=0.008032128514056226)}\n",
      "{'rouge1': Score(precision=0.0, recall=0.0, fmeasure=0.0), 'rouge2': Score(precision=0.0, recall=0.0, fmeasure=0.0)}\n",
      "{'rouge1': Score(precision=0.0011061946902654867, recall=0.16666666666666666, fmeasure=0.002197802197802198), 'rouge2': Score(precision=0.0, recall=0.0, fmeasure=0.0)}\n",
      "{'rouge1': Score(precision=0.02695035460992908, recall=0.36538461538461536, fmeasure=0.05019815059445178), 'rouge2': Score(precision=0.007102272727272727, recall=0.09803921568627451, fmeasure=0.013245033112582783)}\n",
      "{'rouge1': Score(precision=0.2222222222222222, recall=0.16666666666666666, fmeasure=0.1904761904761905), 'rouge2': Score(precision=0.0, recall=0.0, fmeasure=0.0)}\n",
      "{'rouge1': Score(precision=0.2608695652173913, recall=0.125, fmeasure=0.16901408450704225), 'rouge2': Score(precision=0.0, recall=0.0, fmeasure=0.0)}\n",
      "{'rouge1': Score(precision=0.5283018867924528, recall=0.224, fmeasure=0.3146067415730337), 'rouge2': Score(precision=0.057692307692307696, recall=0.024193548387096774, fmeasure=0.03409090909090909)}\n",
      "{'rouge1': Score(precision=0.25, recall=0.25, fmeasure=0.25), 'rouge2': Score(precision=0.0, recall=0.0, fmeasure=0.0)}\n",
      "{'rouge1': Score(precision=0.01251303441084463, recall=0.4, fmeasure=0.024266936299292215), 'rouge2': Score(precision=0.003131524008350731, recall=0.10344827586206896, fmeasure=0.0060790273556231)}\n",
      "{'rouge1': Score(precision=0.0967741935483871, recall=0.3333333333333333, fmeasure=0.15000000000000002), 'rouge2': Score(precision=0.0, recall=0.0, fmeasure=0.0)}\n",
      "{'rouge1': Score(precision=0.3132530120481928, recall=0.1897810218978102, fmeasure=0.23636363636363636), 'rouge2': Score(precision=0.024390243902439025, recall=0.014705882352941176, fmeasure=0.01834862385321101)}\n",
      "{'rouge1': Score(precision=0.022167487684729065, recall=0.32142857142857145, fmeasure=0.041474654377880185), 'rouge2': Score(precision=0.0024691358024691358, recall=0.037037037037037035, fmeasure=0.004629629629629629)}\n",
      "{'rouge1': Score(precision=0.13114754098360656, recall=0.5333333333333333, fmeasure=0.21052631578947367), 'rouge2': Score(precision=0.03305785123966942, recall=0.13793103448275862, fmeasure=0.05333333333333334)}\n",
      "{'rouge1': Score(precision=0.4722222222222222, recall=0.060141509433962265, fmeasure=0.10669456066945608), 'rouge2': Score(precision=0.06542056074766354, recall=0.008264462809917356, fmeasure=0.014675052410901468)}\n",
      "{'rouge1': Score(precision=0.5517241379310345, recall=0.03285420944558522, fmeasure=0.06201550387596899), 'rouge2': Score(precision=0.10714285714285714, recall=0.006172839506172839, fmeasure=0.011673151750972763)}\n",
      "{'rouge1': Score(precision=0.39655172413793105, recall=0.23232323232323232, fmeasure=0.29299363057324845), 'rouge2': Score(precision=0.05263157894736842, recall=0.030612244897959183, fmeasure=0.038709677419354833)}\n",
      "{'rouge1': Score(precision=0.7142857142857143, recall=0.09287925696594428, fmeasure=0.1643835616438356), 'rouge2': Score(precision=0.1951219512195122, recall=0.024844720496894408, fmeasure=0.0440771349862259)}\n",
      "{'rouge1': Score(precision=0.14747474747474748, recall=0.4506172839506173, fmeasure=0.2222222222222222), 'rouge2': Score(precision=0.024291497975708502, recall=0.07453416149068323, fmeasure=0.0366412213740458)}\n",
      "{'rouge1': Score(precision=0.336, recall=0.3783783783783784, fmeasure=0.3559322033898306), 'rouge2': Score(precision=0.04032258064516129, recall=0.045454545454545456, fmeasure=0.042735042735042736)}\n",
      "{'rouge1': Score(precision=0.36507936507936506, recall=0.4339622641509434, fmeasure=0.39655172413793105), 'rouge2': Score(precision=0.06451612903225806, recall=0.07692307692307693, fmeasure=0.07017543859649122)}\n",
      "{'rouge1': Score(precision=0.008771929824561403, recall=0.125, fmeasure=0.01639344262295082), 'rouge2': Score(precision=0.0, recall=0.0, fmeasure=0.0)}\n",
      "{'rouge1': Score(precision=0.7164179104477612, recall=0.14285714285714285, fmeasure=0.23821339950372206), 'rouge2': Score(precision=0.12121212121212122, recall=0.023880597014925373, fmeasure=0.0399002493765586)}\n",
      "{'rouge1': Score(precision=0.46511627906976744, recall=0.06734006734006734, fmeasure=0.11764705882352941), 'rouge2': Score(precision=0.023809523809523808, recall=0.0033783783783783786, fmeasure=0.005917159763313609)}\n",
      "{'rouge1': Score(precision=0.30158730158730157, recall=0.2878787878787879, fmeasure=0.29457364341085274), 'rouge2': Score(precision=0.11290322580645161, recall=0.1076923076923077, fmeasure=0.11023622047244093)}\n",
      "{'rouge1': Score(precision=0.203125, recall=0.25, fmeasure=0.22413793103448276), 'rouge2': Score(precision=0.047619047619047616, recall=0.058823529411764705, fmeasure=0.05263157894736842)}\n",
      "{'rouge1': Score(precision=0.4755244755244755, recall=0.26053639846743293, fmeasure=0.3366336633663366), 'rouge2': Score(precision=0.08450704225352113, recall=0.046153846153846156, fmeasure=0.05970149253731344)}\n",
      "{'rouge1': Score(precision=0.25, recall=0.36585365853658536, fmeasure=0.297029702970297), 'rouge2': Score(precision=0.05084745762711865, recall=0.075, fmeasure=0.060606060606060615)}\n",
      "{'rouge1': Score(precision=0.2037037037037037, recall=0.16417910447761194, fmeasure=0.18181818181818182), 'rouge2': Score(precision=0.015479876160990712, recall=0.012468827930174564, fmeasure=0.0138121546961326)}\n",
      "{'rouge1': Score(precision=0.04129793510324484, recall=0.2978723404255319, fmeasure=0.07253886010362694), 'rouge2': Score(precision=0.005917159763313609, recall=0.043478260869565216, fmeasure=0.010416666666666664)}\n",
      "{'rouge1': Score(precision=0.003472222222222222, recall=0.4, fmeasure=0.0068846815834767644), 'rouge2': Score(precision=0.0017391304347826088, recall=0.25, fmeasure=0.0034542314335060447)}\n"
     ]
    },
    {
     "ename": "KeyboardInterrupt",
     "evalue": "",
     "output_type": "error",
     "traceback": [
      "\u001b[1;31m---------------------------------------------------------------------------\u001b[0m",
      "\u001b[1;31mKeyboardInterrupt\u001b[0m                         Traceback (most recent call last)",
      "Cell \u001b[1;32mIn[54], line 29\u001b[0m\n\u001b[0;32m     27\u001b[0m attention_mask \u001b[38;5;241m=\u001b[39m inputs[\u001b[38;5;124m'\u001b[39m\u001b[38;5;124mattention_mask\u001b[39m\u001b[38;5;124m'\u001b[39m]\n\u001b[0;32m     28\u001b[0m \u001b[38;5;66;03m# Generate the answer\u001b[39;00m\n\u001b[1;32m---> 29\u001b[0m outputs \u001b[38;5;241m=\u001b[39m \u001b[43mmodel\u001b[49m\u001b[38;5;241;43m.\u001b[39;49m\u001b[43mgenerate\u001b[49m\u001b[43m(\u001b[49m\u001b[43minput_ids\u001b[49m\u001b[38;5;241;43m=\u001b[39;49m\u001b[43minput_ids\u001b[49m\u001b[43m,\u001b[49m\u001b[43m \u001b[49m\u001b[43mattention_mask\u001b[49m\u001b[38;5;241;43m=\u001b[39;49m\u001b[43mattention_mask\u001b[49m\u001b[43m,\u001b[49m\u001b[43m \u001b[49m\u001b[43mpad_token_id\u001b[49m\u001b[43m \u001b[49m\u001b[38;5;241;43m=\u001b[39;49m\u001b[43m \u001b[49m\u001b[43mtokenizer\u001b[49m\u001b[38;5;241;43m.\u001b[39;49m\u001b[43meos_token_id\u001b[49m\u001b[43m,\u001b[49m\u001b[43m \u001b[49m\u001b[43mmax_length\u001b[49m\u001b[38;5;241;43m=\u001b[39;49m\u001b[38;5;241;43m1024\u001b[39;49m\u001b[43m,\u001b[49m\u001b[43m \u001b[49m\u001b[43mearly_stopping\u001b[49m\u001b[38;5;241;43m=\u001b[39;49m\u001b[38;5;28;43;01mTrue\u001b[39;49;00m\u001b[43m,\u001b[49m\u001b[43m \u001b[49m\u001b[43mtemperature\u001b[49m\u001b[38;5;241;43m=\u001b[39;49m\u001b[38;5;241;43m0.7\u001b[39;49m\u001b[43m,\u001b[49m\n\u001b[0;32m     30\u001b[0m \u001b[43m                    \u001b[49m\u001b[43mrepetition_penalty\u001b[49m\u001b[38;5;241;43m=\u001b[39;49m\u001b[38;5;241;43m1.11\u001b[39;49m\u001b[43m)\u001b[49m\n\u001b[0;32m     31\u001b[0m \u001b[38;5;66;03m# Decode the generated answer\u001b[39;00m\n\u001b[0;32m     32\u001b[0m a_gen \u001b[38;5;241m=\u001b[39m tokenizer\u001b[38;5;241m.\u001b[39mdecode(outputs[\u001b[38;5;241m0\u001b[39m], skip_special_tokens\u001b[38;5;241m=\u001b[39m\u001b[38;5;28;01mTrue\u001b[39;00m)\n",
      "File \u001b[1;32mc:\\Python312\\Lib\\site-packages\\torch\\utils\\_contextlib.py:116\u001b[0m, in \u001b[0;36mcontext_decorator.<locals>.decorate_context\u001b[1;34m(*args, **kwargs)\u001b[0m\n\u001b[0;32m    113\u001b[0m \u001b[38;5;129m@functools\u001b[39m\u001b[38;5;241m.\u001b[39mwraps(func)\n\u001b[0;32m    114\u001b[0m \u001b[38;5;28;01mdef\u001b[39;00m \u001b[38;5;21mdecorate_context\u001b[39m(\u001b[38;5;241m*\u001b[39margs, \u001b[38;5;241m*\u001b[39m\u001b[38;5;241m*\u001b[39mkwargs):\n\u001b[0;32m    115\u001b[0m     \u001b[38;5;28;01mwith\u001b[39;00m ctx_factory():\n\u001b[1;32m--> 116\u001b[0m         \u001b[38;5;28;01mreturn\u001b[39;00m \u001b[43mfunc\u001b[49m\u001b[43m(\u001b[49m\u001b[38;5;241;43m*\u001b[39;49m\u001b[43margs\u001b[49m\u001b[43m,\u001b[49m\u001b[43m \u001b[49m\u001b[38;5;241;43m*\u001b[39;49m\u001b[38;5;241;43m*\u001b[39;49m\u001b[43mkwargs\u001b[49m\u001b[43m)\u001b[49m\n",
      "File \u001b[1;32m~\\AppData\\Roaming\\Python\\Python312\\site-packages\\transformers\\generation\\utils.py:1989\u001b[0m, in \u001b[0;36mGenerationMixin.generate\u001b[1;34m(self, inputs, generation_config, logits_processor, stopping_criteria, prefix_allowed_tokens_fn, synced_gpus, assistant_model, streamer, negative_prompt_ids, negative_prompt_attention_mask, **kwargs)\u001b[0m\n\u001b[0;32m   1981\u001b[0m     input_ids, model_kwargs \u001b[38;5;241m=\u001b[39m \u001b[38;5;28mself\u001b[39m\u001b[38;5;241m.\u001b[39m_expand_inputs_for_generation(\n\u001b[0;32m   1982\u001b[0m         input_ids\u001b[38;5;241m=\u001b[39minput_ids,\n\u001b[0;32m   1983\u001b[0m         expand_size\u001b[38;5;241m=\u001b[39mgeneration_config\u001b[38;5;241m.\u001b[39mnum_return_sequences,\n\u001b[0;32m   1984\u001b[0m         is_encoder_decoder\u001b[38;5;241m=\u001b[39m\u001b[38;5;28mself\u001b[39m\u001b[38;5;241m.\u001b[39mconfig\u001b[38;5;241m.\u001b[39mis_encoder_decoder,\n\u001b[0;32m   1985\u001b[0m         \u001b[38;5;241m*\u001b[39m\u001b[38;5;241m*\u001b[39mmodel_kwargs,\n\u001b[0;32m   1986\u001b[0m     )\n\u001b[0;32m   1988\u001b[0m     \u001b[38;5;66;03m# 13. run sample (it degenerates to greedy search when `generation_config.do_sample=False`)\u001b[39;00m\n\u001b[1;32m-> 1989\u001b[0m     result \u001b[38;5;241m=\u001b[39m \u001b[38;5;28;43mself\u001b[39;49m\u001b[38;5;241;43m.\u001b[39;49m\u001b[43m_sample\u001b[49m\u001b[43m(\u001b[49m\n\u001b[0;32m   1990\u001b[0m \u001b[43m        \u001b[49m\u001b[43minput_ids\u001b[49m\u001b[43m,\u001b[49m\n\u001b[0;32m   1991\u001b[0m \u001b[43m        \u001b[49m\u001b[43mlogits_processor\u001b[49m\u001b[38;5;241;43m=\u001b[39;49m\u001b[43mprepared_logits_processor\u001b[49m\u001b[43m,\u001b[49m\n\u001b[0;32m   1992\u001b[0m \u001b[43m        \u001b[49m\u001b[43mlogits_warper\u001b[49m\u001b[38;5;241;43m=\u001b[39;49m\u001b[43mprepared_logits_warper\u001b[49m\u001b[43m,\u001b[49m\n\u001b[0;32m   1993\u001b[0m \u001b[43m        \u001b[49m\u001b[43mstopping_criteria\u001b[49m\u001b[38;5;241;43m=\u001b[39;49m\u001b[43mprepared_stopping_criteria\u001b[49m\u001b[43m,\u001b[49m\n\u001b[0;32m   1994\u001b[0m \u001b[43m        \u001b[49m\u001b[43mgeneration_config\u001b[49m\u001b[38;5;241;43m=\u001b[39;49m\u001b[43mgeneration_config\u001b[49m\u001b[43m,\u001b[49m\n\u001b[0;32m   1995\u001b[0m \u001b[43m        \u001b[49m\u001b[43msynced_gpus\u001b[49m\u001b[38;5;241;43m=\u001b[39;49m\u001b[43msynced_gpus\u001b[49m\u001b[43m,\u001b[49m\n\u001b[0;32m   1996\u001b[0m \u001b[43m        \u001b[49m\u001b[43mstreamer\u001b[49m\u001b[38;5;241;43m=\u001b[39;49m\u001b[43mstreamer\u001b[49m\u001b[43m,\u001b[49m\n\u001b[0;32m   1997\u001b[0m \u001b[43m        \u001b[49m\u001b[38;5;241;43m*\u001b[39;49m\u001b[38;5;241;43m*\u001b[39;49m\u001b[43mmodel_kwargs\u001b[49m\u001b[43m,\u001b[49m\n\u001b[0;32m   1998\u001b[0m \u001b[43m    \u001b[49m\u001b[43m)\u001b[49m\n\u001b[0;32m   2000\u001b[0m \u001b[38;5;28;01melif\u001b[39;00m generation_mode \u001b[38;5;129;01min\u001b[39;00m (GenerationMode\u001b[38;5;241m.\u001b[39mBEAM_SAMPLE, GenerationMode\u001b[38;5;241m.\u001b[39mBEAM_SEARCH):\n\u001b[0;32m   2001\u001b[0m     \u001b[38;5;66;03m# 11. prepare logits warper\u001b[39;00m\n\u001b[0;32m   2002\u001b[0m     prepared_logits_warper \u001b[38;5;241m=\u001b[39m (\n\u001b[0;32m   2003\u001b[0m         \u001b[38;5;28mself\u001b[39m\u001b[38;5;241m.\u001b[39m_get_logits_warper(generation_config, device\u001b[38;5;241m=\u001b[39minput_ids\u001b[38;5;241m.\u001b[39mdevice)\n\u001b[0;32m   2004\u001b[0m         \u001b[38;5;28;01mif\u001b[39;00m generation_config\u001b[38;5;241m.\u001b[39mdo_sample\n\u001b[0;32m   2005\u001b[0m         \u001b[38;5;28;01melse\u001b[39;00m \u001b[38;5;28;01mNone\u001b[39;00m\n\u001b[0;32m   2006\u001b[0m     )\n",
      "File \u001b[1;32m~\\AppData\\Roaming\\Python\\Python312\\site-packages\\transformers\\generation\\utils.py:2987\u001b[0m, in \u001b[0;36mGenerationMixin._sample\u001b[1;34m(self, input_ids, logits_processor, stopping_criteria, generation_config, synced_gpus, streamer, logits_warper, **model_kwargs)\u001b[0m\n\u001b[0;32m   2980\u001b[0m     streamer\u001b[38;5;241m.\u001b[39mput(next_tokens\u001b[38;5;241m.\u001b[39mcpu())\n\u001b[0;32m   2981\u001b[0m model_kwargs \u001b[38;5;241m=\u001b[39m \u001b[38;5;28mself\u001b[39m\u001b[38;5;241m.\u001b[39m_update_model_kwargs_for_generation(\n\u001b[0;32m   2982\u001b[0m     outputs,\n\u001b[0;32m   2983\u001b[0m     model_kwargs,\n\u001b[0;32m   2984\u001b[0m     is_encoder_decoder\u001b[38;5;241m=\u001b[39m\u001b[38;5;28mself\u001b[39m\u001b[38;5;241m.\u001b[39mconfig\u001b[38;5;241m.\u001b[39mis_encoder_decoder,\n\u001b[0;32m   2985\u001b[0m )\n\u001b[1;32m-> 2987\u001b[0m unfinished_sequences \u001b[38;5;241m=\u001b[39m unfinished_sequences \u001b[38;5;241m&\u001b[39m \u001b[38;5;241m~\u001b[39m\u001b[43mstopping_criteria\u001b[49m\u001b[43m(\u001b[49m\u001b[43minput_ids\u001b[49m\u001b[43m,\u001b[49m\u001b[43m \u001b[49m\u001b[43mscores\u001b[49m\u001b[43m)\u001b[49m\n\u001b[0;32m   2988\u001b[0m this_peer_finished \u001b[38;5;241m=\u001b[39m unfinished_sequences\u001b[38;5;241m.\u001b[39mmax() \u001b[38;5;241m==\u001b[39m \u001b[38;5;241m0\u001b[39m\n\u001b[0;32m   2990\u001b[0m \u001b[38;5;66;03m# This is needed to properly delete outputs.logits which may be very large for first iteration\u001b[39;00m\n\u001b[0;32m   2991\u001b[0m \u001b[38;5;66;03m# Otherwise a reference to outputs is kept which keeps the logits alive in the next iteration\u001b[39;00m\n",
      "File \u001b[1;32m~\\AppData\\Roaming\\Python\\Python312\\site-packages\\transformers\\generation\\stopping_criteria.py:506\u001b[0m, in \u001b[0;36mStoppingCriteriaList.__call__\u001b[1;34m(self, input_ids, scores, **kwargs)\u001b[0m\n\u001b[0;32m    504\u001b[0m \u001b[38;5;129m@add_start_docstrings\u001b[39m(STOPPING_CRITERIA_INPUTS_DOCSTRING)\n\u001b[0;32m    505\u001b[0m \u001b[38;5;28;01mdef\u001b[39;00m \u001b[38;5;21m__call__\u001b[39m(\u001b[38;5;28mself\u001b[39m, input_ids: torch\u001b[38;5;241m.\u001b[39mLongTensor, scores: torch\u001b[38;5;241m.\u001b[39mFloatTensor, \u001b[38;5;241m*\u001b[39m\u001b[38;5;241m*\u001b[39mkwargs) \u001b[38;5;241m-\u001b[39m\u001b[38;5;241m>\u001b[39m torch\u001b[38;5;241m.\u001b[39mBoolTensor:\n\u001b[1;32m--> 506\u001b[0m     is_done \u001b[38;5;241m=\u001b[39m \u001b[43mtorch\u001b[49m\u001b[38;5;241;43m.\u001b[39;49m\u001b[43mfull\u001b[49m\u001b[43m(\u001b[49m\u001b[43m(\u001b[49m\u001b[43minput_ids\u001b[49m\u001b[38;5;241;43m.\u001b[39;49m\u001b[43mshape\u001b[49m\u001b[43m[\u001b[49m\u001b[38;5;241;43m0\u001b[39;49m\u001b[43m]\u001b[49m\u001b[43m,\u001b[49m\u001b[43m)\u001b[49m\u001b[43m,\u001b[49m\u001b[43m \u001b[49m\u001b[38;5;28;43;01mFalse\u001b[39;49;00m\u001b[43m,\u001b[49m\u001b[43m \u001b[49m\u001b[43mdevice\u001b[49m\u001b[38;5;241;43m=\u001b[39;49m\u001b[43minput_ids\u001b[49m\u001b[38;5;241;43m.\u001b[39;49m\u001b[43mdevice\u001b[49m\u001b[43m,\u001b[49m\u001b[43m \u001b[49m\u001b[43mdtype\u001b[49m\u001b[38;5;241;43m=\u001b[39;49m\u001b[43mtorch\u001b[49m\u001b[38;5;241;43m.\u001b[39;49m\u001b[43mbool\u001b[49m\u001b[43m)\u001b[49m\n\u001b[0;32m    507\u001b[0m     \u001b[38;5;28;01mfor\u001b[39;00m criteria \u001b[38;5;129;01min\u001b[39;00m \u001b[38;5;28mself\u001b[39m:\n\u001b[0;32m    508\u001b[0m         is_done \u001b[38;5;241m=\u001b[39m is_done \u001b[38;5;241m|\u001b[39m criteria(input_ids, scores, \u001b[38;5;241m*\u001b[39m\u001b[38;5;241m*\u001b[39mkwargs)\n",
      "\u001b[1;31mKeyboardInterrupt\u001b[0m: "
     ]
    }
   ],
   "source": [
    "\n",
    "# Example references and hypotheses\n",
    "#references = [\"The quick brown fox jumps over the lazy dog.\"]\n",
    "#hypotheses = [\"The fast brown fox leaps over the lazy dog.\"]\n",
    "\n",
    "# Compute scores\n",
    "#scores = scorer.score(references[0], hypotheses[0])\n",
    "\n",
    "# Output the scores\n",
    "#print(scores)\n",
    "\n",
    "avg_rouge1_precision = 0\n",
    "avg_rouge1_recall = 0\n",
    "avg_rouge1_f = 0\n",
    "\n",
    "avg_rouge2_precision = 0\n",
    "avg_rouge2_recall = 0\n",
    "avg_rouge2_f = 0\n",
    "\n",
    "for index, row in val_df.iterrows():\n",
    "    q = row['question']\n",
    "    a = row['answer']\n",
    "    if q == '' or a == '':\n",
    "        continue\n",
    "    #tokenize\n",
    "    inputs = tokenizer(q, return_tensors=\"pt\", padding=True, truncation=True).to(device)\n",
    "    input_ids = inputs['input_ids']\n",
    "    attention_mask = inputs['attention_mask']\n",
    "    # Generate the answer\n",
    "    outputs = model.generate(input_ids=input_ids, attention_mask=attention_mask, pad_token_id = tokenizer.eos_token_id, max_length=1024, early_stopping=True, temperature=0.7,\n",
    "                        repetition_penalty=1.11)\n",
    "    # Decode the generated answer\n",
    "    a_gen = tokenizer.decode(outputs[0], skip_special_tokens=True)\n",
    "    # compute the score\n",
    "    score = scorer.score(a, a_gen)\n",
    "    avg_rouge1_precision += score['rouge1'].precision\n",
    "    avg_rouge1_recall += score['rouge1'].recall\n",
    "    avg_rouge1_f += score['rouge1'].fmeasure\n",
    "    avg_rouge2_precision += score['rouge2'].precision\n",
    "    avg_rouge2_recall += score['rouge2'].recall\n",
    "    avg_rouge2_f += score['rouge2'].fmeasure\n",
    "    print(score)\n",
    "\n",
    "avg_rouge1_precision /= len(val_df)\n",
    "avg_rouge1_recall /= len(val_df)\n",
    "avg_rouge1_f /= len(val_df)\n",
    "\n",
    "avg_rouge2_precision/= len(val_df)\n",
    "avg_rouge2_recall /= len(val_df)\n",
    "avg_rouge2_f /= len(val_df)\n",
    "print(\"\\nROGUE statistics on Validation dataset:\")\n",
    "print(\"Rogue1 scores (order: precision, recall, f):\", avg_rouge1_precision, avg_rouge1_recall, avg_rouge1_f)\n",
    "print(\"Rogue2 scores (order: precision, recall, f):\", avg_rouge2_precision, avg_rouge2_recall, avg_rouge2_f)"
   ]
  },
  {
   "cell_type": "code",
   "execution_count": 55,
   "metadata": {},
   "outputs": [
    {
     "name": "stdout",
     "output_type": "stream",
     "text": [
      "\n",
      "ROGUE statistics on Validation dataset:\n",
      "Rogue1 scores (order: precision, recall, f): 0.25964345338822853 0.21765670444083307 0.15738381536639987\n",
      "Rogue2 scores (order: precision, recall, f): 0.05826736110733983 0.036458296397637924 0.029555665906071206\n"
     ]
    }
   ],
   "source": [
    "# Only applicable limited, this cell needs to be removed if all val set needs to be checked.\n",
    "avg_rouge1_precision /= 197\n",
    "avg_rouge1_recall /= 197\n",
    "avg_rouge1_f /= 197\n",
    "\n",
    "avg_rouge2_precision/= 197\n",
    "avg_rouge2_recall /= 197\n",
    "avg_rouge2_f /= 197\n",
    "print(\"\\nROGUE statistics on Validation dataset:\")\n",
    "print(\"Rogue1 scores (order: precision, recall, f):\", avg_rouge1_precision, avg_rouge1_recall, avg_rouge1_f)\n",
    "print(\"Rogue2 scores (order: precision, recall, f):\", avg_rouge2_precision, avg_rouge2_recall, avg_rouge2_f)"
   ]
  },
  {
   "cell_type": "markdown",
   "metadata": {},
   "source": [
    "## Some questions asked to the model"
   ]
  },
  {
   "cell_type": "code",
   "execution_count": 86,
   "metadata": {},
   "outputs": [
    {
     "name": "stdout",
     "output_type": "stream",
     "text": [
      "Answer: what industry need lead generation and marketing? Answer: Lead generation and marketing are two different field of business. Lead generation and marketing are two different fields, one is to connect with potential customer and build brand awareness. Lead generation and marketing are two different field that are both essential for business to grow and expand their reach. Here are some key point to consider: 1. Research and Optimize Your Website: Before starting your website, it's important to understand the content you're promoting. This will help you tailor your content to meet the need of your audience. 2. Create a Content Strategy: Develop a content strategy that outline your content strategy and how it will impact your business. This includes creating high-quality, engaging, and engaging content that resonates with your target audience. 3. Promote Your Products: Share your product or service to attract new customers. This can include product reviews, reviews, and other relevant information. 4. Engage in Social Media: Engaging in social medium can be an effective way to reach potential customers. Engaging in conversation about your product or service can help build relationship with your audience. 5. Use SEO Techniques: Use keyword research to identify relevant keywords that are relevant to your website's search engine results. This can include optimizing your website's\n"
     ]
    }
   ],
   "source": [
    "question = \"what industry need lead generation and marketing\"\n",
    "\n",
    "# Encode the input\n",
    "inputs = tokenizer(question, return_tensors=\"pt\", padding=True, truncation=True).to(device)\n",
    "input_ids = inputs['input_ids']\n",
    "attention_mask = inputs['attention_mask']\n",
    "\n",
    "# Generate the answer\n",
    "outputs = model.generate(input_ids=input_ids, attention_mask=attention_mask, pad_token_id = tokenizer.eos_token_id, max_length=256, early_stopping=True, temperature=0.7,\n",
    "                        repetition_penalty=1.11)\n",
    "# Decode the generated answer\n",
    "answer = tokenizer.decode(outputs[0], skip_special_tokens=True)\n",
    "print(\"Answer:\", answer)"
   ]
  },
  {
   "cell_type": "code",
   "execution_count": 11,
   "metadata": {},
   "outputs": [
    {
     "name": "stdout",
     "output_type": "stream",
     "text": [
      "Answer: how to use a proxy, and how can I use one? Answer: Proxy server are a type of web application that us the internet. They are used for various purposes, such as browsing, accessing websites, or accessing file on the Internet. Proxy server are used by various service provider to provide access to website and other data. They are used in various way to protect your privacy and security from unauthorized access. Some popular proxy server include Google Chrome, which provides a wide range of proxy server for various purposes. These proxy server allow user to browse the internet without any restriction or restrictions. However, some common practice involve using different proxies, such an IP address (IP), a well a setting up VPNs, which can be used to track and access website from anywhere. Additionally, these proxy server allow user to access website directly through their mobile devices, which can help them stay connected with others online.\n"
     ]
    }
   ],
   "source": [
    "question = \"how to use a proxy\"\n",
    "\n",
    "# Encode the input\n",
    "inputs = tokenizer(question, return_tensors=\"pt\", padding=True, truncation=True).to(device)\n",
    "input_ids = inputs['input_ids']\n",
    "attention_mask = inputs['attention_mask']\n",
    "\n",
    "# Generate the answer\n",
    "outputs = model.generate(input_ids=input_ids, attention_mask=attention_mask, pad_token_id = tokenizer.eos_token_id, max_length=256, early_stopping=True, temperature=0.7,\n",
    "                        repetition_penalty=1.2)\n",
    "\n",
    "# Decode the generated answer\n",
    "answer = tokenizer.decode(outputs[0], skip_special_tokens=True)\n",
    "print(\"Answer:\", answer)"
   ]
  },
  {
   "cell_type": "code",
   "execution_count": 17,
   "metadata": {},
   "outputs": [
    {
     "name": "stdout",
     "output_type": "stream",
     "text": [
      "Answer: What are the must-have iPhone apps? Why? Answer: There are many must-have iPhone apps available, including Google Play Store and Apple Music. Here are some of the most popular and widely used apps for Android: 1) Apps for music streaming: Spotify, YouTube Video Player (iTunes), and Apple Music playlists can be a great way to listen to your favorite song or create a playlist that is more relevant than others. 2)(Music streaming app): Spotify offer a wide range in it genre such as classical rock/rock, electronica, and pop. It's important to note these apps are not intended solely on a specific device, and they may require additional processing and maintenance to ensure they are user-friendly and user-friendly. 3.) App Store: Apple Store provides a wide selection of apps for Android devices, including iWatch TV, iWatch Pro Max HD, and iMovie. These apps are designed specifically for Android devices, and are designed with the goal of providing a seamless experience for both users' needs.[LINKED_TEXT:  [URL:[LINKED_TEXT:  [URL:- \n"
     ]
    }
   ],
   "source": [
    "question = \"What are the must-have iPhone apps\"\n",
    "\n",
    "# Encode the input\n",
    "inputs = tokenizer(question, return_tensors=\"pt\", padding=True, truncation=True).to(device)\n",
    "input_ids = inputs['input_ids']\n",
    "attention_mask = inputs['attention_mask']\n",
    "\n",
    "# Generate the answer\n",
    "outputs = model.generate(input_ids=input_ids, attention_mask=attention_mask, pad_token_id = tokenizer.eos_token_id, max_length=512, early_stopping=True, temperature=0.7,\n",
    "                        repetition_penalty=1.19)\n",
    "\n",
    "# Decode the generated answer\n",
    "answer = tokenizer.decode(outputs[0], skip_special_tokens=True)\n",
    "print(\"Answer:\", answer)"
   ]
  },
  {
   "cell_type": "code",
   "execution_count": 47,
   "metadata": {},
   "outputs": [
    {
     "name": "stdout",
     "output_type": "stream",
     "text": [
      "Answer: What is the color code for 52M ohm? Answer: I have a black and white laptop with a black screen.\n"
     ]
    }
   ],
   "source": [
    "question = \"What is the color code for 52M ohm\"\n",
    "\n",
    "# Encode the input\n",
    "inputs = tokenizer(question, return_tensors=\"pt\", padding=True, truncation=True).to(device)\n",
    "input_ids = inputs['input_ids']\n",
    "attention_mask = inputs['attention_mask']\n",
    "\n",
    "# Generate the answer\n",
    "outputs = model.generate(input_ids=input_ids, attention_mask=attention_mask, pad_token_id = tokenizer.eos_token_id, max_length=256, early_stopping=True, temperature=0.7,\n",
    "                        repetition_penalty=1.3)\n",
    "# Decode the generated answer\n",
    "answer = tokenizer.decode(outputs[0], skip_special_tokens=True)\n",
    "print(\"Answer:\", answer)"
   ]
  },
  {
   "cell_type": "markdown",
   "metadata": {},
   "source": [
    "## Attention Heatmap for feature importance"
   ]
  },
  {
   "cell_type": "code",
   "execution_count": 83,
   "metadata": {},
   "outputs": [
    {
     "data": {
      "image/png": "[encoded data removed]",
      "text/plain": [
       "<Figure size 640x480 with 2 Axes>"
      ]
     },
     "metadata": {},
     "output_type": "display_data"
    }
   ],
   "source": [
    "import matplotlib.pyplot as plt\n",
    "# Example input\n",
    "question = \"what industry need lead generation and marketing?\"\n",
    "\n",
    "# Tokenize inputs\n",
    "inputs = tokenizer(question, return_tensors='pt').to(device)\n",
    "\n",
    "# Get model outputs\n",
    "outputs = model(**inputs, output_attentions=True)\n",
    "attentions = outputs.attentions\n",
    "\n",
    "# Select a specific attention layer\n",
    "attention_layer = attentions[0][0]  # First layer's attention\n",
    "\n",
    "# Plot attention\n",
    "plt.imshow(attention_layer[0].cpu().detach().numpy(), cmap='viridis', interpolation='nearest')\n",
    "plt.colorbar()\n",
    "plt.title('Attention Heatmap, \\\n",
    "for question \"what industry need lead generation and marketing?\"')\n",
    "plt.xlabel('Context Tokens')\n",
    "plt.ylabel('Question Tokens')\n",
    "plt.show()"
   ]
  }
 ],
 "metadata": {
  "kernelspec": {
   "display_name": "Python 3",
   "language": "python",
   "name": "python3"
  },
  "language_info": {
   "codemirror_mode": {
    "name": "ipython",
    "version": 3
   },
   "file_extension": ".py",
   "mimetype": "text/x-python",
   "name": "python",
   "nbconvert_exporter": "python",
   "pygments_lexer": "ipython3",
   "version": "3.12.4"
  }
 },
 "nbformat": 4,
 "nbformat_minor": 2
}
